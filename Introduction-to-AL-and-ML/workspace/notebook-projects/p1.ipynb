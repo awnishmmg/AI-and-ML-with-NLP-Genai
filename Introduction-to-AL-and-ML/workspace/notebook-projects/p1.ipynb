{
 "cells": [
  {
   "cell_type": "code",
   "execution_count": 1,
   "id": "74d40b4c",
   "metadata": {},
   "outputs": [],
   "source": [
    "## This is sample Notebook file"
   ]
  },
  {
   "cell_type": "code",
   "execution_count": 2,
   "id": "f0c6a7e6",
   "metadata": {},
   "outputs": [
    {
     "name": "stdout",
     "output_type": "stream",
     "text": [
      "Hello world from VS code Exteions\n"
     ]
    }
   ],
   "source": [
    "print('Hello world from VS code Exteions')"
   ]
  },
  {
   "cell_type": "markdown",
   "id": "47e39491",
   "metadata": {},
   "source": []
  }
 ],
 "metadata": {
  "kernelspec": {
   "display_name": "myenv",
   "language": "python",
   "name": "python3"
  },
  "language_info": {
   "codemirror_mode": {
    "name": "ipython",
    "version": 3
   },
   "file_extension": ".py",
   "mimetype": "text/x-python",
   "name": "python",
   "nbconvert_exporter": "python",
   "pygments_lexer": "ipython3",
   "version": "3.12.7"
  }
 },
 "nbformat": 4,
 "nbformat_minor": 5
}
