{
 "cells": [
  {
   "cell_type": "markdown",
   "id": "34071bb3-4178-4bf3-a090-3207beba8b99",
   "metadata": {},
   "source": [
    "### Wap in Python to implement << avg >> word2vec"
   ]
  },
  {
   "cell_type": "code",
   "execution_count": 12,
   "id": "071859ac-0806-423c-8379-5debdb3dad9e",
   "metadata": {},
   "outputs": [],
   "source": [
    "import numpy as np"
   ]
  },
  {
   "cell_type": "code",
   "execution_count": 13,
   "id": "214e6e27-667b-4e83-9b40-223bbfe2c2df",
   "metadata": {},
   "outputs": [],
   "source": [
    "def avg_word_2_vector(sentence,model):\n",
    "    words = sentence.lower().split() #convert to lower case and split using space\n",
    "    word_vec = [model[word] for word in words if word in model]\n",
    "    return np.mean(word_vec,axis=0) if word_vec else np.zeros(model.vector_size)"
   ]
  },
  {
   "cell_type": "code",
   "execution_count": null,
   "id": "b3190808-61ae-4969-9d3c-bfce53861849",
   "metadata": {},
   "outputs": [],
   "source": [
    "from gensim.models import Word2Vec"
   ]
  },
  {
   "cell_type": "code",
   "execution_count": 16,
   "id": "5c94eff7-6f2c-4dc0-a589-1c9fdb4e0ae9",
   "metadata": {},
   "outputs": [],
   "source": [
    "import gensim.downloader as api # This donwload will help in downloading the required model :pretrained ~ 1.5+"
   ]
  },
  {
   "cell_type": "code",
   "execution_count": 26,
   "id": "11036aad-1793-4b5c-8a4f-78fa22e77dd8",
   "metadata": {},
   "outputs": [],
   "source": [
    "#How to find the Model list\n",
    "infos = api.info()\n",
    "#print('Inforamations',infos)\n",
    "\n",
    "models_list = infos['models']\n",
    "#print('Model List',models_list)\n",
    "#print(List(models_list.keys())) # Keys with Version"
   ]
  },
  {
   "cell_type": "code",
   "execution_count": 27,
   "id": "140d348a-40d4-4e3c-a0a4-aa1c26f83583",
   "metadata": {},
   "outputs": [
    {
     "name": "stdout",
     "output_type": "stream",
     "text": [
      "[==================================================] 100.0% 66.0/66.0MB downloaded\n"
     ]
    }
   ],
   "source": [
    "model = api.load('glove-wiki-gigaword-50') #25,50,100,..... 70Mb -80 Mb"
   ]
  },
  {
   "cell_type": "code",
   "execution_count": 30,
   "id": "7c4e0378-cea3-4a73-9156-5cd356c9ef8d",
   "metadata": {},
   "outputs": [
    {
     "name": "stdout",
     "output_type": "stream",
     "text": [
      "[==================================================] 100.0% 128.1/128.1MB downloaded\n"
     ]
    }
   ],
   "source": [
    "model = api.load('glove-wiki-gigaword-100') #25,50,100,..... 70Mb -80 Mb"
   ]
  },
  {
   "cell_type": "code",
   "execution_count": 28,
   "id": "8ca0fd58-0b35-4db4-b2ea-29ecd2418898",
   "metadata": {},
   "outputs": [
    {
     "name": "stdout",
     "output_type": "stream",
     "text": [
      "Average Word2Vec Vector: [ 8.31471607e-02  2.18846679e-01 -1.38463333e-01  6.13261648e-02\n",
      "  3.85051489e-01  1.88059986e-01 -2.05892682e-01 -5.00615001e-01\n",
      " -3.75501625e-02  4.05635029e-01 -5.74426502e-02  6.43583313e-02\n",
      " -3.12729329e-01 -1.87067494e-01  1.14046663e-01 -5.25454991e-02\n",
      "  1.75052509e-01  7.08079994e-01 -3.58426660e-01 -4.36812311e-01\n",
      "  6.10968359e-02  5.28240025e-01  1.01175465e-01  1.72002330e-01\n",
      "  7.43966639e-01 -1.01666319e+00 -7.79363334e-01 -4.19316739e-02\n",
      "  5.74840724e-01 -4.77062345e-01  2.94435000e+00  1.60043344e-01\n",
      " -1.40605018e-01 -3.63293320e-01  4.47284915e-02  3.46259981e-01\n",
      "  8.62003025e-03  4.20613319e-01 -8.16682950e-05 -9.25899968e-02\n",
      "  1.70995995e-01 -5.62680066e-02 -3.76873344e-01  2.87421495e-01\n",
      "  1.54005498e-01 -5.15500223e-03  3.54964972e-01 -2.78354973e-01\n",
      "  3.36866714e-02  4.50016707e-01]\n"
     ]
    }
   ],
   "source": [
    "sentences = \"machine learning is fun and amazing\"\n",
    "vector = avg_word_2_vector(sentences,model)\n",
    "print('Average Word2Vec Vector:',vector)"
   ]
  },
  {
   "cell_type": "code",
   "execution_count": 31,
   "id": "44658239-c996-4133-8c12-6914f336a57e",
   "metadata": {},
   "outputs": [
    {
     "name": "stdout",
     "output_type": "stream",
     "text": [
      "Average Word2Vec Vector: [-1.34138837e-01  3.59145492e-01  1.50785163e-01 -2.16113344e-01\n",
      " -1.06366649e-02  2.80669838e-01  1.03497505e-01  3.35541874e-01\n",
      " -2.37133410e-02  5.02013415e-02  2.00698331e-01 -3.35729986e-01\n",
      "  6.82625100e-02 -1.45879492e-01  2.16315985e-01 -4.12190072e-02\n",
      "  1.38842598e-01  3.30208987e-01 -3.05715144e-01  5.79083383e-01\n",
      "  5.47016673e-02  9.80758294e-02  1.34446681e-01 -3.77443314e-01\n",
      "  2.47162342e-01  3.13926667e-01 -1.23676330e-01 -1.60482585e-01\n",
      " -1.42685145e-01 -1.32208660e-01 -5.41059971e-01  6.55141294e-01\n",
      " -1.21306330e-01 -1.13967180e-01  2.60186166e-01 -1.87904999e-01\n",
      " -1.54202670e-01  1.57063320e-01  2.16242984e-01 -4.83716637e-01\n",
      " -1.09215014e-01  1.85354650e-02 -6.83656558e-02 -2.44222507e-01\n",
      " -3.18887681e-01  4.34966898e-03  2.24950328e-01 -2.06503332e-01\n",
      "  1.38037845e-01 -6.01214945e-01 -1.20705329e-01 -1.98849186e-01\n",
      "  2.56113023e-01  9.85803366e-01  1.31813824e-01 -2.11428332e+00\n",
      "  1.36009499e-01  2.30268359e-01  1.07837999e+00  3.33496600e-01\n",
      "  5.54566681e-02  7.02011764e-01 -3.18614990e-01  9.37383249e-02\n",
      "  4.45675641e-01  9.85273346e-02  6.20333016e-01 -4.88225073e-02\n",
      "  3.83785009e-01  2.54523326e-02  4.05251682e-02 -1.60301641e-01\n",
      "  8.96711648e-02 -1.36388138e-01  2.09496662e-01  3.77328306e-01\n",
      " -9.83833242e-03  3.15160491e-02 -4.19224650e-01 -1.04246633e-02\n",
      "  2.75268346e-01  1.82515204e-01 -3.42304945e-01  6.78076670e-02\n",
      " -1.37777662e+00  1.37228325e-01  6.17553294e-02 -3.93926859e-01\n",
      " -1.71988323e-01 -3.32144827e-01 -3.70835274e-04  1.45283416e-02\n",
      "  1.77019998e-01  3.05356830e-01 -2.65246183e-01 -2.21995354e-01\n",
      " -3.91200989e-01 -8.32891703e-01  7.32914984e-01  5.15126705e-01]\n"
     ]
    }
   ],
   "source": [
    "sentences = \"machine learning is fun and amazing\"\n",
    "vector = avg_word_2_vector(sentences,model)\n",
    "print('Average Word2Vec Vector:',vector)"
   ]
  },
  {
   "cell_type": "code",
   "execution_count": 32,
   "id": "9584922f-7225-470a-a91f-0650e9b973ec",
   "metadata": {},
   "outputs": [],
   "source": [
    "model.save('glove-average-word2vec.model')"
   ]
  },
  {
   "cell_type": "code",
   "execution_count": null,
   "id": "5f9b5f97-b017-4f3e-a3b4-3e03ba18aa6a",
   "metadata": {},
   "outputs": [],
   "source": []
  }
 ],
 "metadata": {
  "kernelspec": {
   "display_name": "Python 3 (ipykernel)",
   "language": "python",
   "name": "python3"
  },
  "language_info": {
   "codemirror_mode": {
    "name": "ipython",
    "version": 3
   },
   "file_extension": ".py",
   "mimetype": "text/x-python",
   "name": "python",
   "nbconvert_exporter": "python",
   "pygments_lexer": "ipython3",
   "version": "3.12.7"
  }
 },
 "nbformat": 4,
 "nbformat_minor": 5
}
