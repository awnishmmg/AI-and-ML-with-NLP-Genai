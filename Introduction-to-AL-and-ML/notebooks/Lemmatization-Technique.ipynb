{
 "cells": [
  {
   "cell_type": "markdown",
   "id": "2935f6a9-f571-4c8e-a9c4-a5221a5ca76f",
   "metadata": {},
   "source": [
    "### Lemmatization using NLTK"
   ]
  },
  {
   "cell_type": "code",
   "execution_count": 1,
   "id": "758046bb-ca2a-4d18-81d2-1a759f897ae4",
   "metadata": {},
   "outputs": [
    {
     "name": "stdout",
     "output_type": "stream",
     "text": [
      "Requirement already satisfied: nltk in d:\\iu-training\\introduction-to-al-and-ml\\source-code ai\\spacy-package\\myenv\\lib\\site-packages (3.9.1)\n",
      "Requirement already satisfied: click in d:\\iu-training\\introduction-to-al-and-ml\\source-code ai\\spacy-package\\myenv\\lib\\site-packages (from nltk) (8.2.1)\n",
      "Requirement already satisfied: joblib in d:\\iu-training\\introduction-to-al-and-ml\\source-code ai\\spacy-package\\myenv\\lib\\site-packages (from nltk) (1.5.1)\n",
      "Requirement already satisfied: regex>=2021.8.3 in d:\\iu-training\\introduction-to-al-and-ml\\source-code ai\\spacy-package\\myenv\\lib\\site-packages (from nltk) (2024.11.6)\n",
      "Requirement already satisfied: tqdm in d:\\iu-training\\introduction-to-al-and-ml\\source-code ai\\spacy-package\\myenv\\lib\\site-packages (from nltk) (4.67.1)\n",
      "Requirement already satisfied: colorama in d:\\iu-training\\introduction-to-al-and-ml\\source-code ai\\spacy-package\\myenv\\lib\\site-packages (from click->nltk) (0.4.6)\n"
     ]
    }
   ],
   "source": [
    "!pip install nltk"
   ]
  },
  {
   "cell_type": "code",
   "execution_count": 2,
   "id": "49176196-9b6b-4880-9bf3-a426501dc3b7",
   "metadata": {},
   "outputs": [],
   "source": [
    "import nltk"
   ]
  },
  {
   "cell_type": "code",
   "execution_count": 4,
   "id": "c518298f-8537-473f-916a-f5b3833dbeec",
   "metadata": {},
   "outputs": [
    {
     "name": "stderr",
     "output_type": "stream",
     "text": [
      "[nltk_data] Downloading package punkt to\n",
      "[nltk_data]     C:\\Users\\Imart\\AppData\\Roaming\\nltk_data...\n",
      "[nltk_data]   Package punkt is already up-to-date!\n"
     ]
    },
    {
     "data": {
      "text/plain": [
       "True"
      ]
     },
     "execution_count": 4,
     "metadata": {},
     "output_type": "execute_result"
    }
   ],
   "source": [
    "nltk.download('punkt')"
   ]
  },
  {
   "cell_type": "code",
   "execution_count": 13,
   "id": "ede8884b-421b-4a19-8ff1-5270a787e786",
   "metadata": {},
   "outputs": [],
   "source": [
    "from nltk.stem import WordNetLemmatizer #dictionary List ---> Wordlist Donwload"
   ]
  },
  {
   "cell_type": "code",
   "execution_count": 10,
   "id": "fb38d382-5679-497b-90df-ca8dfbe28683",
   "metadata": {},
   "outputs": [
    {
     "name": "stderr",
     "output_type": "stream",
     "text": [
      "[nltk_data] Downloading package wordnet to\n",
      "[nltk_data]     C:\\Users\\Imart\\AppData\\Roaming\\nltk_data...\n",
      "[nltk_data]   Package wordnet is already up-to-date!\n"
     ]
    },
    {
     "data": {
      "text/plain": [
       "True"
      ]
     },
     "execution_count": 10,
     "metadata": {},
     "output_type": "execute_result"
    }
   ],
   "source": [
    "nltk.download('wordnet') # Simple dictionary"
   ]
  },
  {
   "cell_type": "code",
   "execution_count": 14,
   "id": "cae0bf18-5d3f-499b-ae20-9af69c64dd4f",
   "metadata": {},
   "outputs": [
    {
     "name": "stderr",
     "output_type": "stream",
     "text": [
      "[nltk_data] Downloading package omw-1.4 to\n",
      "[nltk_data]     C:\\Users\\Imart\\AppData\\Roaming\\nltk_data...\n"
     ]
    },
    {
     "data": {
      "text/plain": [
       "True"
      ]
     },
     "execution_count": 14,
     "metadata": {},
     "output_type": "execute_result"
    }
   ],
   "source": [
    "nltk.download('omw-1.4') # Extended Wordlist (Huge dictionary)"
   ]
  },
  {
   "cell_type": "code",
   "execution_count": 15,
   "id": "26f5abb8-de80-4d70-bf67-0ddffd10595f",
   "metadata": {},
   "outputs": [],
   "source": [
    "lemmatizer = WordNetLemmatizer()"
   ]
  },
  {
   "cell_type": "code",
   "execution_count": 16,
   "id": "6670e9cc-a50d-40ce-9d6f-0a8d615f675f",
   "metadata": {},
   "outputs": [],
   "source": [
    "words = ['cats','dogs','better','running','congrats','congratulations','happily','played','ate','studies','geese']"
   ]
  },
  {
   "cell_type": "code",
   "execution_count": 18,
   "id": "0596879c-dfde-43be-ad90-ac2498f41c48",
   "metadata": {},
   "outputs": [
    {
     "name": "stdout",
     "output_type": "stream",
     "text": [
      "words list : ['cats', 'dogs', 'better', 'running', 'congrats', 'congratulations', 'happily', 'played', 'ate', 'studies', 'geese']\n"
     ]
    }
   ],
   "source": [
    "print('words list :',words)"
   ]
  },
  {
   "cell_type": "code",
   "execution_count": 19,
   "id": "2d06f711-a094-4cc6-9d33-dc265f0d4521",
   "metadata": {},
   "outputs": [],
   "source": [
    "lemmatized_words = [lemmatizer.lemmatize(word.lower()) for word in words]"
   ]
  },
  {
   "cell_type": "code",
   "execution_count": 20,
   "id": "9db5f98c-7363-4de2-908f-33fb7ba492b9",
   "metadata": {},
   "outputs": [
    {
     "name": "stdout",
     "output_type": "stream",
     "text": [
      "Lemmatised words : ['cat', 'dog', 'better', 'running', 'congrats', 'congratulation', 'happily', 'played', 'ate', 'study', 'goose']\n"
     ]
    }
   ],
   "source": [
    "print('Lemmatised words :',lemmatized_words)"
   ]
  },
  {
   "cell_type": "code",
   "execution_count": 21,
   "id": "7805f33b-fd9c-4519-9c79-407b23f4cc5d",
   "metadata": {},
   "outputs": [
    {
     "name": "stdout",
     "output_type": "stream",
     "text": [
      "better\n"
     ]
    }
   ],
   "source": [
    "print(lemmatizer.lemmatize('better')) #comparative Nouns : Best,Better,Good, : POS = 'noun'"
   ]
  },
  {
   "cell_type": "code",
   "execution_count": 22,
   "id": "7d312db8-75bc-41fe-b9fb-b9384a601fd7",
   "metadata": {},
   "outputs": [
    {
     "name": "stdout",
     "output_type": "stream",
     "text": [
      "cat\n"
     ]
    }
   ],
   "source": [
    "print(lemmatizer.lemmatize('cats'))"
   ]
  },
  {
   "cell_type": "code",
   "execution_count": 23,
   "id": "84c3d5c7-ca4c-469a-804c-0ab68288a3a7",
   "metadata": {},
   "outputs": [
    {
     "name": "stdout",
     "output_type": "stream",
     "text": [
      "running\n"
     ]
    }
   ],
   "source": [
    "print(lemmatizer.lemmatize('running')) #it is not working because we have not post tagging. Verb POS='Verb'"
   ]
  },
  {
   "cell_type": "markdown",
   "id": "9adbfd63-43c8-4f77-b804-efde844aec27",
   "metadata": {},
   "source": [
    "### How to Perform Post Tagging (Parts of Speech in Lemmatization)"
   ]
  },
  {
   "cell_type": "code",
   "execution_count": 24,
   "id": "2a29ddd2-e979-4ba7-9760-45f687c6a5a0",
   "metadata": {},
   "outputs": [],
   "source": [
    "from nltk.corpus import wordnet"
   ]
  },
  {
   "cell_type": "code",
   "execution_count": 25,
   "id": "6c9b43be-4554-47ec-a29f-8af6b572cb33",
   "metadata": {},
   "outputs": [],
   "source": [
    "from nltk import pos_tag,word_tokenize"
   ]
  },
  {
   "cell_type": "code",
   "execution_count": 26,
   "id": "421bc283-8324-42ee-93bd-7d785afe9472",
   "metadata": {},
   "outputs": [
    {
     "name": "stderr",
     "output_type": "stream",
     "text": [
      "[nltk_data] Downloading package punkt to\n",
      "[nltk_data]     C:\\Users\\Imart\\AppData\\Roaming\\nltk_data...\n",
      "[nltk_data]   Package punkt is already up-to-date!\n"
     ]
    },
    {
     "data": {
      "text/plain": [
       "True"
      ]
     },
     "execution_count": 26,
     "metadata": {},
     "output_type": "execute_result"
    }
   ],
   "source": [
    "nltk.download('punkt')"
   ]
  },
  {
   "cell_type": "code",
   "execution_count": 27,
   "id": "8e8a0aaf-ff2d-4678-bf09-ec42fb813f68",
   "metadata": {},
   "outputs": [],
   "source": [
    "def word_tagging(word_tag):\n",
    "    if word_tag.startswith('J'):\n",
    "        return wordnet.ADJ\n",
    "    elif word_tag.startswith('V'):\n",
    "        return wordnet.VERB\n",
    "    elif word_tag.startswith('N'):\n",
    "        return wordnet.NOUN\n",
    "    elif word_tag.startswith('R'):\n",
    "        return wordnet.ADV\n",
    "    else:\n",
    "        return wordnet.NOUN"
   ]
  },
  {
   "cell_type": "code",
   "execution_count": 40,
   "id": "f3495511-9349-484b-bf13-5bd5df49fd4e",
   "metadata": {},
   "outputs": [],
   "source": [
    "corpus  = 'The Stripped Bats are hanging in thier feet of the better view'"
   ]
  },
  {
   "cell_type": "code",
   "execution_count": 41,
   "id": "743eef20-c29f-4036-bd05-a20a5a166ff9",
   "metadata": {},
   "outputs": [
    {
     "name": "stdout",
     "output_type": "stream",
     "text": [
      "Corupus: The Stripped Bats are hanging in thier feet of the better view\n"
     ]
    }
   ],
   "source": [
    "print('Corupus:',corpus)"
   ]
  },
  {
   "cell_type": "code",
   "execution_count": 42,
   "id": "27f80304-3ea0-4bc9-9f39-83fd7ad62b09",
   "metadata": {},
   "outputs": [],
   "source": [
    "tokens = word_tokenize(corpus)"
   ]
  },
  {
   "cell_type": "code",
   "execution_count": 31,
   "id": "8189e443-d2a6-484a-a4a3-0e1c8f405b3d",
   "metadata": {},
   "outputs": [
    {
     "name": "stdout",
     "output_type": "stream",
     "text": [
      "Word Tokens: ['The', 'Stripped', 'Bats', 'are', 'hanging', 'in', 'thier', 'feet', 'of', 'the', 'best', 'view']\n"
     ]
    }
   ],
   "source": [
    "print('Word Tokens:',tokens)"
   ]
  },
  {
   "cell_type": "code",
   "execution_count": 34,
   "id": "1df43209-c2c2-438d-8fc9-d587af10d8ae",
   "metadata": {},
   "outputs": [],
   "source": [
    "import nltk"
   ]
  },
  {
   "cell_type": "code",
   "execution_count": 35,
   "id": "395b90cf-8d85-4ab9-bd34-812e6f6e4db1",
   "metadata": {},
   "outputs": [
    {
     "name": "stderr",
     "output_type": "stream",
     "text": [
      "[nltk_data] Downloading package averaged_perceptron_tagger_eng to\n",
      "[nltk_data]     C:\\Users\\Imart\\AppData\\Roaming\\nltk_data...\n",
      "[nltk_data]   Unzipping taggers\\averaged_perceptron_tagger_eng.zip.\n"
     ]
    },
    {
     "data": {
      "text/plain": [
       "True"
      ]
     },
     "execution_count": 35,
     "metadata": {},
     "output_type": "execute_result"
    }
   ],
   "source": [
    "nltk.download('averaged_perceptron_tagger_eng')  # Tagging Model"
   ]
  },
  {
   "cell_type": "code",
   "execution_count": 36,
   "id": "cc7314b7-22ad-4667-bdbe-a402cab4a7ae",
   "metadata": {},
   "outputs": [
    {
     "name": "stdout",
     "output_type": "stream",
     "text": [
      "Tagged words: [('The', 'DT'), ('Stripped', 'NNP'), ('Bats', 'NNP'), ('are', 'VBP'), ('hanging', 'VBG'), ('in', 'IN'), ('thier', 'JJ'), ('feet', 'NNS'), ('of', 'IN'), ('the', 'DT'), ('best', 'JJS'), ('view', 'NN')]\n"
     ]
    }
   ],
   "source": [
    "tagging = pos_tag(tokens)\n",
    "print('Tagged words:',tagging)\n",
    "\n"
   ]
  },
  {
   "cell_type": "markdown",
   "id": "93b79e97-fe44-4713-9481-9e2f97be6ab9",
   "metadata": {},
   "source": [
    "### list of the Post Tagging "
   ]
  },
  {
   "cell_type": "code",
   "execution_count": 37,
   "id": "412a935f-1cba-4ffd-b120-ea84f4da97df",
   "metadata": {},
   "outputs": [
    {
     "name": "stdout",
     "output_type": "stream",
     "text": [
      "\n",
      "POS tag list:\n",
      "\n",
      "CC\tcoordinating conjunction\n",
      "CD\tcardinal digit\n",
      "DT\tdeterminer\n",
      "EX\texistential there (like: \"there is\" ... think of it like \"there exists\")\n",
      "FW\tforeign word\n",
      "IN\tpreposition/subordinating conjunction\n",
      "JJ\tadjective\t'big'\n",
      "JJR\tadjective, comparative\t'bigger'\n",
      "JJS\tadjective, superlative\t'biggest'\n",
      "LS\tlist marker\t1)\n",
      "MD\tmodal\tcould, will\n",
      "NN\tnoun, singular 'desk'\n",
      "NNS\tnoun plural\t'desks'\n",
      "NNP\tproper noun, singular\t'Harrison'\n",
      "NNPS\tproper noun, plural\t'Americans'\n",
      "PDT\tpredeterminer\t'all the kids'\n",
      "POS\tpossessive ending\tparent's\n",
      "PRP\tpersonal pronoun\tI, he, she\n",
      "PRP$\tpossessive pronoun\tmy, his, hers\n",
      "RB\tadverb\tvery, silently,\n",
      "RBR\tadverb, comparative\tbetter\n",
      "RBS\tadverb, superlative\tbest\n",
      "RP\tparticle\tgive up\n",
      "TO\tto\tgo 'to' the store.\n",
      "UH\tinterjection\terrrrrrrrm\n",
      "VB\tverb, base form\ttake\n",
      "VBD\tverb, past tense\ttook\n",
      "VBG\tverb, gerund/present participle\ttaking\n",
      "VBN\tverb, past participle\ttaken\n",
      "VBP\tverb, sing. present, non-3d\ttake\n",
      "VBZ\tverb, 3rd person sing. present\ttakes\n",
      "WDT\twh-determiner\twhich\n",
      "WP\twh-pronoun\twho, what\n",
      "WP$\tpossessive wh-pronoun\twhose\n",
      "WRB\twh-abverb\twhere, when\n",
      "\n"
     ]
    }
   ],
   "source": [
    "post_taggs = '''\n",
    "POS tag list:\n",
    "\n",
    "CC\tcoordinating conjunction\n",
    "CD\tcardinal digit\n",
    "DT\tdeterminer\n",
    "EX\texistential there (like: \"there is\" ... think of it like \"there exists\")\n",
    "FW\tforeign word\n",
    "IN\tpreposition/subordinating conjunction\n",
    "JJ\tadjective\t'big'\n",
    "JJR\tadjective, comparative\t'bigger'\n",
    "JJS\tadjective, superlative\t'biggest'\n",
    "LS\tlist marker\t1)\n",
    "MD\tmodal\tcould, will\n",
    "NN\tnoun, singular 'desk'\n",
    "NNS\tnoun plural\t'desks'\n",
    "NNP\tproper noun, singular\t'Harrison'\n",
    "NNPS\tproper noun, plural\t'Americans'\n",
    "PDT\tpredeterminer\t'all the kids'\n",
    "POS\tpossessive ending\tparent\\'s\n",
    "PRP\tpersonal pronoun\tI, he, she\n",
    "PRP$\tpossessive pronoun\tmy, his, hers\n",
    "RB\tadverb\tvery, silently,\n",
    "RBR\tadverb, comparative\tbetter\n",
    "RBS\tadverb, superlative\tbest\n",
    "RP\tparticle\tgive up\n",
    "TO\tto\tgo 'to' the store.\n",
    "UH\tinterjection\terrrrrrrrm\n",
    "VB\tverb, base form\ttake\n",
    "VBD\tverb, past tense\ttook\n",
    "VBG\tverb, gerund/present participle\ttaking\n",
    "VBN\tverb, past participle\ttaken\n",
    "VBP\tverb, sing. present, non-3d\ttake\n",
    "VBZ\tverb, 3rd person sing. present\ttakes\n",
    "WDT\twh-determiner\twhich\n",
    "WP\twh-pronoun\twho, what\n",
    "WP$\tpossessive wh-pronoun\twhose\n",
    "WRB\twh-abverb\twhere, when\n",
    "'''\n",
    "print(post_taggs)"
   ]
  },
  {
   "cell_type": "code",
   "execution_count": 38,
   "id": "4fe0f996-2e5f-47b1-b9e2-a2912686cea3",
   "metadata": {},
   "outputs": [],
   "source": [
    "lemmatized =  [lemmatizer.lemmatize(word,word_tagging(tag)) for word,tag in tagging]"
   ]
  },
  {
   "cell_type": "code",
   "execution_count": 39,
   "id": "213c1aac-7ab9-4df5-a3e9-0a764a9bfaef",
   "metadata": {},
   "outputs": [
    {
     "name": "stdout",
     "output_type": "stream",
     "text": [
      "Lemmatized word ['The', 'Stripped', 'Bats', 'be', 'hang', 'in', 'thier', 'foot', 'of', 'the', 'best', 'view']\n"
     ]
    }
   ],
   "source": [
    "print('Lemmatized word',lemmatized)"
   ]
  },
  {
   "cell_type": "code",
   "execution_count": null,
   "id": "8c8481bb-bd42-417b-90c4-af7f365d22ec",
   "metadata": {},
   "outputs": [],
   "source": []
  }
 ],
 "metadata": {
  "kernelspec": {
   "display_name": "Python 3 (ipykernel)",
   "language": "python",
   "name": "python3"
  },
  "language_info": {
   "codemirror_mode": {
    "name": "ipython",
    "version": 3
   },
   "file_extension": ".py",
   "mimetype": "text/x-python",
   "name": "python",
   "nbconvert_exporter": "python",
   "pygments_lexer": "ipython3",
   "version": "3.12.7"
  }
 },
 "nbformat": 4,
 "nbformat_minor": 5
}
