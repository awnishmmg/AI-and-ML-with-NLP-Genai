{
 "cells": [
  {
   "cell_type": "markdown",
   "id": "42ae8590-54f5-45e0-9469-f90b5dfd5a52",
   "metadata": {},
   "source": [
    "### TF- IDF Vectorisation Technique (Tf(t')X IDF(t'))"
   ]
  },
  {
   "cell_type": "code",
   "execution_count": 1,
   "id": "cd58b1bf-f496-4ccc-8af9-4f15564664b3",
   "metadata": {},
   "outputs": [],
   "source": [
    "from sklearn.feature_extraction.text import TfidfVectorizer"
   ]
  },
  {
   "cell_type": "code",
   "execution_count": 2,
   "id": "31b55c28-df19-432a-82e6-bcd28ea5074c",
   "metadata": {},
   "outputs": [],
   "source": [
    "documents = [\n",
    "    'i love machine learning and nlp',\n",
    "    'machine learning is always fun',\n",
    "    'i love coding as well',\n",
    "    'i can code my own machine learning model'\n",
    "];"
   ]
  },
  {
   "cell_type": "code",
   "execution_count": 3,
   "id": "3d455979-df42-4eb7-a04f-2fc8d6d57284",
   "metadata": {},
   "outputs": [
    {
     "name": "stdout",
     "output_type": "stream",
     "text": [
      "documents: ['i love machine learning and nlp', 'machine learning is always fun', 'i love coding as well', 'i can code my own machine learning model']\n"
     ]
    }
   ],
   "source": [
    "print('documents:',documents)"
   ]
  },
  {
   "cell_type": "code",
   "execution_count": 4,
   "id": "81a4c7d5-26ec-4a60-8111-d8f3d8aa109f",
   "metadata": {},
   "outputs": [],
   "source": [
    "vectorizer = TfidfVectorizer()"
   ]
  },
  {
   "cell_type": "code",
   "execution_count": 5,
   "id": "6bd90049-b31f-497b-9161-80196bc7019d",
   "metadata": {},
   "outputs": [],
   "source": [
    "transformed_matrix = vectorizer.fit_transform(documents)"
   ]
  },
  {
   "cell_type": "code",
   "execution_count": 6,
   "id": "a3fc6539-91c9-4f2f-8b2c-83dd864da26a",
   "metadata": {},
   "outputs": [
    {
     "name": "stdout",
     "output_type": "stream",
     "text": [
      "Transformed Matrix : <Compressed Sparse Row sparse matrix of dtype 'float64'\n",
      "\twith 21 stored elements and shape (4, 16)>\n",
      "  Coords\tValues\n",
      "  (0, 9)\t0.4253047588435995\n",
      "  (0, 10)\t0.34432085671547236\n",
      "  (0, 8)\t0.34432085671547236\n",
      "  (0, 1)\t0.5394451581794177\n",
      "  (0, 13)\t0.5394451581794177\n",
      "  (1, 10)\t0.3267976803045626\n",
      "  (1, 8)\t0.3267976803045626\n",
      "  (1, 7)\t0.5119917161748856\n",
      "  (1, 0)\t0.5119917161748856\n",
      "  (1, 6)\t0.5119917161748856\n",
      "  (2, 9)\t0.41428875116588965\n",
      "  (2, 5)\t0.5254727492640658\n",
      "  (2, 2)\t0.5254727492640658\n",
      "  (2, 15)\t0.5254727492640658\n",
      "  (3, 10)\t0.2646962975587471\n",
      "  (3, 8)\t0.2646962975587471\n",
      "  (3, 3)\t0.41469789970950716\n",
      "  (3, 4)\t0.41469789970950716\n",
      "  (3, 12)\t0.41469789970950716\n",
      "  (3, 14)\t0.41469789970950716\n",
      "  (3, 11)\t0.41469789970950716\n"
     ]
    }
   ],
   "source": [
    "print('Transformed Matrix :',transformed_matrix)"
   ]
  },
  {
   "cell_type": "code",
   "execution_count": 8,
   "id": "a80f5e72-1493-49bf-b945-18b7cdc9eb20",
   "metadata": {},
   "outputs": [
    {
     "name": "stdout",
     "output_type": "stream",
     "text": [
      "Extracting Features : ['always' 'and' 'as' 'can' 'code' 'coding' 'fun' 'is' 'learning' 'love'\n",
      " 'machine' 'model' 'my' 'nlp' 'own' 'well']\n"
     ]
    }
   ],
   "source": [
    "print('Extracting Features :',vectorizer.get_feature_names_out()) # Feature Extraction"
   ]
  },
  {
   "cell_type": "code",
   "execution_count": null,
   "id": "0c2b2701-9df1-4ed5-a6ea-803c3aff140e",
   "metadata": {},
   "outputs": [],
   "source": [
    "print('Vector Maxtrix Display : ',transformed_matrix.t)"
   ]
  }
 ],
 "metadata": {
  "kernelspec": {
   "display_name": "Python 3 (ipykernel)",
   "language": "python",
   "name": "python3"
  },
  "language_info": {
   "codemirror_mode": {
    "name": "ipython",
    "version": 3
   },
   "file_extension": ".py",
   "mimetype": "text/x-python",
   "name": "python",
   "nbconvert_exporter": "python",
   "pygments_lexer": "ipython3",
   "version": "3.12.7"
  }
 },
 "nbformat": 4,
 "nbformat_minor": 5
}
