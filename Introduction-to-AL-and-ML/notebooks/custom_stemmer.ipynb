{
 "cells": [
  {
   "cell_type": "code",
   "execution_count": 7,
   "id": "b9dac6b4-7ae6-4764-bbb4-75e9afa4255a",
   "metadata": {},
   "outputs": [],
   "source": [
    "import re\n",
    "import nltk"
   ]
  },
  {
   "cell_type": "code",
   "execution_count": 8,
   "id": "f2fc2368-f775-4053-b256-255b6b6e56e1",
   "metadata": {},
   "outputs": [],
   "source": [
    "def custom_stemmer(word):\n",
    "    suffix_list = [\n",
    "    # Noun\n",
    "    \"ness\", \"tion\", \"sion\", \"ity\", \"ty\", \"ment\", \"er\", \"or\", \n",
    "    \"ism\", \"ist\", \"age\", \"ship\", \"hood\", \"dom\",\n",
    "    # Verb\n",
    "    \"ize\", \"ise\", \"en\", \"ify\", \"fy\", \"ate\",\n",
    "    # Adjective\n",
    "    \"able\", \"ible\", \"ous\", \"ious\", \"ful\", \"less\", \"ic\", \n",
    "    \"l\", \"ical\", \"y\", \"ish\", \"ive\",\n",
    "    # Adverb\n",
    "    \"ly\", \"ward\", \"wards\", \"wise\",\n",
    "    # General suffixes\n",
    "    \"ed\", \"ing\", \"s\", \"es\", \"est\", \"er\"\n",
    "    ];\n",
    "    for suffix in suffix_list:\n",
    "        if word.endswith(suffix):\n",
    "            return re.sub(f\"{suffix}$\",\"\",word)\n",
    "    return word\n",
    "\n"
   ]
  },
  {
   "cell_type": "code",
   "execution_count": 16,
   "id": "fb6159ed-ca14-43fb-850c-8a95839d778f",
   "metadata": {},
   "outputs": [],
   "source": [
    "words = nltk.word_tokenize('''My Name is Abdullaah and I am a Software Engineer. I like Playing Cricket, This makes me live happily''')\n"
   ]
  },
  {
   "cell_type": "code",
   "execution_count": 17,
   "id": "55308b16-1955-4dac-bdbc-bb49447284df",
   "metadata": {},
   "outputs": [
    {
     "name": "stdout",
     "output_type": "stream",
     "text": [
      "words from corpus : ['My', 'Name', 'is', 'Abdullaah', 'and', 'I', 'am', 'a', 'Software', 'Engineer', '.', 'I', 'like', 'Playing', 'Cricket', ',', 'This', 'makes', 'me', 'live', 'happily']\n"
     ]
    }
   ],
   "source": [
    "print('words from corpus :',words)"
   ]
  },
  {
   "cell_type": "code",
   "execution_count": 18,
   "id": "ac79478d-a00b-4c59-8b4b-e17af60bc561",
   "metadata": {},
   "outputs": [],
   "source": [
    "stem_words = [custom_stemmer(word.lower()) for word in words]"
   ]
  },
  {
   "cell_type": "code",
   "execution_count": 19,
   "id": "d1b3c41d-80c4-40f0-9990-6da10aa239ca",
   "metadata": {},
   "outputs": [
    {
     "name": "stdout",
     "output_type": "stream",
     "text": [
      "List of stem words: ['m', 'name', 'i', 'abdullaah', 'and', 'i', 'am', 'a', 'software', 'engine', '.', 'i', 'like', 'play', 'cricket', ',', 'thi', 'make', 'me', 'l', 'happil']\n"
     ]
    }
   ],
   "source": [
    "print('List of stem words:',stem_words)"
   ]
  },
  {
   "cell_type": "code",
   "execution_count": 20,
   "id": "5d16f70f-96ca-4e8b-807e-1e4371613053",
   "metadata": {},
   "outputs": [
    {
     "name": "stdin",
     "output_type": "stream",
     "text": [
      "Enter the word: playing\n"
     ]
    },
    {
     "name": "stdout",
     "output_type": "stream",
     "text": [
      "Result : play\n"
     ]
    }
   ],
   "source": [
    "input_word = input('Enter the word:')\n",
    "result = custom_stemmer(input_word)\n",
    "print('Result :',result)"
   ]
  },
  {
   "cell_type": "code",
   "execution_count": 21,
   "id": "870a2f58-1870-40c1-a5b1-bd767c6294d5",
   "metadata": {},
   "outputs": [
    {
     "name": "stdin",
     "output_type": "stream",
     "text": [
      "Enter the word: movement\n"
     ]
    },
    {
     "name": "stdout",
     "output_type": "stream",
     "text": [
      "Result : move\n"
     ]
    }
   ],
   "source": [
    "input_word = input('Enter the word:')\n",
    "result = custom_stemmer(input_word)\n",
    "print('Result :',result)"
   ]
  },
  {
   "cell_type": "code",
   "execution_count": 23,
   "id": "b842372d-b06f-4ab4-9051-e0ab5dd7ab70",
   "metadata": {},
   "outputs": [
    {
     "name": "stdin",
     "output_type": "stream",
     "text": [
      "Enter the word: happily\n"
     ]
    },
    {
     "name": "stdout",
     "output_type": "stream",
     "text": [
      "Result : happil\n"
     ]
    }
   ],
   "source": [
    "input_word = input('Enter the word:')\n",
    "result = custom_stemmer(input_word)\n",
    "print('Result :',result)"
   ]
  },
  {
   "cell_type": "code",
   "execution_count": 26,
   "id": "3f2c0e10-9f46-4557-aa47-eeaa79fb0ee0",
   "metadata": {},
   "outputs": [
    {
     "name": "stdin",
     "output_type": "stream",
     "text": [
      "Enter the word: dancing\n"
     ]
    },
    {
     "name": "stdout",
     "output_type": "stream",
     "text": [
      "Result : danc\n"
     ]
    }
   ],
   "source": [
    "input_word = input('Enter the word:')\n",
    "result = custom_stemmer(input_word)\n",
    "print('Result :',result)"
   ]
  },
  {
   "cell_type": "code",
   "execution_count": null,
   "id": "ce21dbfb-5d2f-433f-97ba-f66bdba7b927",
   "metadata": {},
   "outputs": [],
   "source": []
  }
 ],
 "metadata": {
  "kernelspec": {
   "display_name": "Python 3 (ipykernel)",
   "language": "python",
   "name": "python3"
  },
  "language_info": {
   "codemirror_mode": {
    "name": "ipython",
    "version": 3
   },
   "file_extension": ".py",
   "mimetype": "text/x-python",
   "name": "python",
   "nbconvert_exporter": "python",
   "pygments_lexer": "ipython3",
   "version": "3.12.7"
  }
 },
 "nbformat": 4,
 "nbformat_minor": 5
}
