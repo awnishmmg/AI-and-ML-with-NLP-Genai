{
 "cells": [
  {
   "cell_type": "markdown",
   "id": "34c63448-651d-405d-b05d-c06940efca72",
   "metadata": {},
   "source": [
    "## working with Regex Pattern"
   ]
  },
  {
   "cell_type": "raw",
   "id": "14827593-9e69-4e45-9982-6be1f30b85d2",
   "metadata": {},
   "source": [
    "## Regex stands for Regular Expression"
   ]
  },
  {
   "cell_type": "raw",
   "id": "ea83da46-4101-4f68-b788-52b7cd40923d",
   "metadata": {},
   "source": [
    "what is exactly regex ?\n",
    "Regex is group of character sequence, which identifies some special pattern."
   ]
  },
  {
   "cell_type": "code",
   "execution_count": 7,
   "id": "34fb715d-7b17-4542-a33e-0819632b955f",
   "metadata": {},
   "outputs": [],
   "source": [
    "import re"
   ]
  },
  {
   "cell_type": "code",
   "execution_count": 53,
   "id": "e42fe59a-e5ad-4c80-a0a6-2ff3f9425dde",
   "metadata": {},
   "outputs": [],
   "source": [
    "pattern = re.compile(\"[^ab]\") #/ab/ : every regex is startes / and ends with /"
   ]
  },
  {
   "cell_type": "code",
   "execution_count": 55,
   "id": "bb84ecad-9279-4f75-8b0b-533222563fd6",
   "metadata": {},
   "outputs": [],
   "source": [
    "matcher = pattern.finditer('abaabab') #it is cursor object -> always work in next Interator."
   ]
  },
  {
   "cell_type": "markdown",
   "id": "a1adc146-19d9-4b38-859e-1918eaa0c1fe",
   "metadata": {},
   "source": [
    "for match in matcher:\n",
    "    print(match.start(),'<---->',match.end(),'<---->',match.group()) #starting index of matched #end() => sequence n+1 position matching"
   ]
  },
  {
   "cell_type": "markdown",
   "id": "a0b78c1c-b62d-49ba-8f94-3b686ff31247",
   "metadata": {},
   "source": [
    "## Short Cut for Above Methods :-"
   ]
  },
  {
   "cell_type": "code",
   "execution_count": 63,
   "id": "63a855c9-fcf7-454d-802f-9d7ec11b121b",
   "metadata": {},
   "outputs": [
    {
     "name": "stdout",
     "output_type": "stream",
     "text": [
      "0 <----> 2 <----> ab\n",
      "3 <----> 5 <----> ab\n",
      "5 <----> 7 <----> ab\n"
     ]
    }
   ],
   "source": [
    "import re\n",
    "matcher = re.finditer('ab','abaabab')\n",
    "for match in matcher:\n",
    "    print(match.start(),'<---->',match.end(),'<---->',match.group()) "
   ]
  },
  {
   "cell_type": "code",
   "execution_count": null,
   "id": "b00a5526-9c87-44f4-826b-82e8a1bd5a57",
   "metadata": {},
   "outputs": [],
   "source": []
  }
 ],
 "metadata": {
  "kernelspec": {
   "display_name": "Python [conda env:base] *",
   "language": "python",
   "name": "conda-base-py"
  },
  "language_info": {
   "codemirror_mode": {
    "name": "ipython",
    "version": 3
   },
   "file_extension": ".py",
   "mimetype": "text/x-python",
   "name": "python",
   "nbconvert_exporter": "python",
   "pygments_lexer": "ipython3",
   "version": "3.12.7"
  }
 },
 "nbformat": 4,
 "nbformat_minor": 5
}
