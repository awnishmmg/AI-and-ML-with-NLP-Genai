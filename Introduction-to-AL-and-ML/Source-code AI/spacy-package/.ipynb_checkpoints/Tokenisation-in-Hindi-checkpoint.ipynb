{
 "cells": [
  {
   "cell_type": "markdown",
   "id": "f1902a8f-5a92-49ac-8f30-40fb5854546c",
   "metadata": {},
   "source": [
    "### Tokenisation in Hindi"
   ]
  },
  {
   "cell_type": "code",
   "execution_count": 1,
   "id": "6ba9cca4-272a-4073-a7d1-dd5c77717357",
   "metadata": {},
   "outputs": [],
   "source": [
    "import nltk\n"
   ]
  },
  {
   "cell_type": "code",
   "execution_count": 3,
   "id": "9156dd2a-5124-4d14-a725-76bc8c1a7892",
   "metadata": {},
   "outputs": [
    {
     "name": "stderr",
     "output_type": "stream",
     "text": [
      "[nltk_data] Downloading package punkt to\n",
      "[nltk_data]     C:\\Users\\Imart\\AppData\\Roaming\\nltk_data...\n",
      "[nltk_data]   Package punkt is already up-to-date!\n"
     ]
    },
    {
     "data": {
      "text/plain": [
       "True"
      ]
     },
     "execution_count": 3,
     "metadata": {},
     "output_type": "execute_result"
    }
   ],
   "source": [
    "nltk.download('punkt')"
   ]
  },
  {
   "cell_type": "code",
   "execution_count": 8,
   "id": "f6572e83-b0d5-420f-b7b3-01ef893b026a",
   "metadata": {},
   "outputs": [],
   "source": [
    "corpus = ''' मेरा नाम अवनीश है और मुझे कुछ एमएल अवधारणाएँ सिखाना पसंद है। और मुझे इसमें मज़ा आता है। '''"
   ]
  },
  {
   "cell_type": "code",
   "execution_count": 5,
   "id": "367a6c0a-25cd-4048-9379-5ef481085e00",
   "metadata": {},
   "outputs": [
    {
     "name": "stdout",
     "output_type": "stream",
     "text": [
      "Corpus:  मेरा नाम अवनीश है और मुझे कुछ एमएल अवधारणाएँ सिखाना पसंद है।\n",
      "और मुझे इसमें मज़ा आता है। \n"
     ]
    }
   ],
   "source": [
    "print('Corpus:',corpus)"
   ]
  },
  {
   "cell_type": "code",
   "execution_count": 6,
   "id": "6369b9b6-ba89-445e-8ea7-7409b697a1e7",
   "metadata": {},
   "outputs": [
    {
     "data": {
      "text/plain": [
       "['मेरा',\n",
       " 'नाम',\n",
       " 'अवनीश',\n",
       " 'है',\n",
       " 'और',\n",
       " 'मुझे',\n",
       " 'कुछ',\n",
       " 'एमएल',\n",
       " 'अवधारणाएँ',\n",
       " 'सिखाना',\n",
       " 'पसंद',\n",
       " 'है।',\n",
       " 'और',\n",
       " 'मुझे',\n",
       " 'इसमें',\n",
       " 'मज़ा',\n",
       " 'आता',\n",
       " 'है।']"
      ]
     },
     "execution_count": 6,
     "metadata": {},
     "output_type": "execute_result"
    }
   ],
   "source": [
    "nltk.word_tokenize(corpus) # corpus -> words"
   ]
  },
  {
   "cell_type": "code",
   "execution_count": 10,
   "id": "087f3ceb-3d62-4c72-b91c-75a04d67ce7a",
   "metadata": {},
   "outputs": [
    {
     "data": {
      "text/plain": [
       "[' मेरा नाम अवनीश है और मुझे कुछ एमएल अवधारणाएँ सिखाना पसंद है। और मुझे इसमें मज़ा आता है।']"
      ]
     },
     "execution_count": 10,
     "metadata": {},
     "output_type": "execute_result"
    }
   ],
   "source": [
    "nltk.sent_tokenize(corpus) #corpus cannot be converted to setence."
   ]
  },
  {
   "cell_type": "markdown",
   "id": "68592521-ae7b-481b-a7c1-e801da3f2fe1",
   "metadata": {},
   "source": [
    "### using the indic-nlp-library."
   ]
  },
  {
   "cell_type": "code",
   "execution_count": 13,
   "id": "b87beec3-b388-470e-95f3-e72afc124283",
   "metadata": {},
   "outputs": [],
   "source": [
    "from indicnlp.tokenize import indic_tokenize\n",
    "words = indic_tokenize.trivial_tokenize(corpus,lang='hi')"
   ]
  },
  {
   "cell_type": "code",
   "execution_count": 14,
   "id": "53ce3d61-25ff-4f82-8e35-78b0a7ca1d79",
   "metadata": {},
   "outputs": [
    {
     "name": "stdout",
     "output_type": "stream",
     "text": [
      "Tokenised words: ['मेरा', 'नाम', 'अवनीश', 'है', 'और', 'मुझे', 'कुछ', 'एमएल', 'अवधारणाएँ', 'सिखाना', 'पसंद', 'है', '।', 'और', 'मुझे', 'इसमें', 'मज़ा', 'आता', 'है', '।']\n"
     ]
    }
   ],
   "source": [
    "print('Tokenised words:',words)"
   ]
  },
  {
   "cell_type": "code",
   "execution_count": null,
   "id": "6b2ea955-e8f4-45b9-9a76-6401cc1b714c",
   "metadata": {},
   "outputs": [],
   "source": [
    "from indicnlp.tokenize.sentence_tokenize import sentence_split\n",
    "sentences = sentence_split(corpus,lang='hi')"
   ]
  }
 ],
 "metadata": {
  "kernelspec": {
   "display_name": "Python 3 (ipykernel)",
   "language": "python",
   "name": "python3"
  },
  "language_info": {
   "codemirror_mode": {
    "name": "ipython",
    "version": 3
   },
   "file_extension": ".py",
   "mimetype": "text/x-python",
   "name": "python",
   "nbconvert_exporter": "python",
   "pygments_lexer": "ipython3",
   "version": "3.12.7"
  }
 },
 "nbformat": 4,
 "nbformat_minor": 5
}
