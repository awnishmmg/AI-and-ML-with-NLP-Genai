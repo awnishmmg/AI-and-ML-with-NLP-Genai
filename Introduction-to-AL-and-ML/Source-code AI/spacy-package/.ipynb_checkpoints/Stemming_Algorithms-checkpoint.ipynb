{
 "cells": [
  {
   "cell_type": "code",
   "execution_count": 1,
   "id": "500040ab-7892-46dc-95f9-7b78dbec218d",
   "metadata": {},
   "outputs": [],
   "source": [
    "import nltk"
   ]
  },
  {
   "cell_type": "code",
   "execution_count": 2,
   "id": "0e64f10b-2877-4fe4-bfb9-23abee3beb0c",
   "metadata": {},
   "outputs": [
    {
     "name": "stderr",
     "output_type": "stream",
     "text": [
      "[nltk_data] Downloading package punkt to\n",
      "[nltk_data]     C:\\Users\\Imart\\AppData\\Roaming\\nltk_data...\n",
      "[nltk_data]   Package punkt is already up-to-date!\n"
     ]
    },
    {
     "data": {
      "text/plain": [
       "True"
      ]
     },
     "execution_count": 2,
     "metadata": {},
     "output_type": "execute_result"
    }
   ],
   "source": [
    "nltk.download('punkt')"
   ]
  },
  {
   "cell_type": "code",
   "execution_count": 3,
   "id": "392ba5b5-0b1d-4ad1-a8c6-f82bbc6dc662",
   "metadata": {},
   "outputs": [],
   "source": [
    "from nltk.stem import PorterStemmer,LancasterStemmer,SnowballStemmer"
   ]
  },
  {
   "cell_type": "code",
   "execution_count": 6,
   "id": "39e8c19d-0ab2-410a-9e37-957f5ec87fe0",
   "metadata": {},
   "outputs": [],
   "source": [
    "corpus = ''' The Children are Playing in the ground and have played several games after which they are enjoying it happily'''"
   ]
  },
  {
   "cell_type": "code",
   "execution_count": 7,
   "id": "7b571dc8-ae15-48b4-bb7b-8cc136b9c63a",
   "metadata": {},
   "outputs": [
    {
     "name": "stdout",
     "output_type": "stream",
     "text": [
      "Corpus:  The Children are Playing in the ground and have played several games after which they are enjoying it happily\n"
     ]
    }
   ],
   "source": [
    "print('Corpus:',corpus)"
   ]
  },
  {
   "cell_type": "code",
   "execution_count": 9,
   "id": "f143dc7a-e400-4e5a-a635-9358518fcdf9",
   "metadata": {},
   "outputs": [
    {
     "name": "stdout",
     "output_type": "stream",
     "text": [
      "['The', 'Children', 'are', 'Playing', 'in', 'the', 'ground', 'and', 'have', 'played', 'several', 'games', 'after', 'which', 'they', 'are', 'enjoying', 'it', 'happily']\n"
     ]
    }
   ],
   "source": [
    "from nltk.tokenize import word_tokenize\n",
    "words = word_tokenize(corpus)\n",
    "print(words)"
   ]
  },
  {
   "cell_type": "markdown",
   "id": "78d30cd7-bbd1-4459-9a43-17c6068780ff",
   "metadata": {},
   "source": [
    "#### Applying Steming  for Porter Stemmer "
   ]
  },
  {
   "cell_type": "code",
   "execution_count": 10,
   "id": "2f32f71d-2d76-47c7-95f1-6a7cadfe4c62",
   "metadata": {},
   "outputs": [],
   "source": [
    "ps = PorterStemmer()"
   ]
  },
  {
   "cell_type": "code",
   "execution_count": 11,
   "id": "ab15d4cb-198f-4b53-b9dc-087df501fb26",
   "metadata": {},
   "outputs": [],
   "source": [
    "ps_stem_words = [ps.stem(word.lower()) for word in words]"
   ]
  },
  {
   "cell_type": "code",
   "execution_count": 12,
   "id": "ad5b7e5b-2b73-44f5-9e84-c5a44f154cbf",
   "metadata": {},
   "outputs": [
    {
     "name": "stdout",
     "output_type": "stream",
     "text": [
      "Stem word after Porter Stemming: ['the', 'children', 'are', 'play', 'in', 'the', 'ground', 'and', 'have', 'play', 'sever', 'game', 'after', 'which', 'they', 'are', 'enjoy', 'it', 'happili']\n"
     ]
    }
   ],
   "source": [
    "print('Stem word after Porter Stemming:',ps_stem_words)"
   ]
  },
  {
   "cell_type": "markdown",
   "id": "fbd84b38-f2b0-4990-a08a-fa51cf42680e",
   "metadata": {},
   "source": [
    "#### Applying Steming  for Snowball Stemmer (Porter Stemmer Improved 2.0)"
   ]
  },
  {
   "cell_type": "code",
   "execution_count": 15,
   "id": "7217d6dd-238e-40de-875b-de9d3e25564a",
   "metadata": {},
   "outputs": [
    {
     "name": "stdout",
     "output_type": "stream",
     "text": [
      "Stem word after Snowball  Stemming: ['the', 'children', 'are', 'play', 'in', 'the', 'ground', 'and', 'have', 'play', 'sever', 'game', 'after', 'which', 'they', 'are', 'enjoy', 'it', 'happili']\n"
     ]
    }
   ],
   "source": [
    "sbs = SnowballStemmer('english')\n",
    "ss_stem_words = [sbs.stem(word.lower()) for word in words]\n",
    "print('Stem word after Snowball  Stemming:',ss_stem_words)"
   ]
  },
  {
   "cell_type": "code",
   "execution_count": 16,
   "id": "ce4ac86c-b10e-4717-a645-e2bb5b7a8931",
   "metadata": {},
   "outputs": [
    {
     "name": "stdout",
     "output_type": "stream",
     "text": [
      "Stem word after Lancaster Stemming: ['the', 'childr', 'ar', 'play', 'in', 'the', 'ground', 'and', 'hav', 'play', 'sev', 'gam', 'aft', 'which', 'they', 'ar', 'enjoy', 'it', 'happy']\n"
     ]
    }
   ],
   "source": [
    "#### Applying Steming  for LanCaster Stemmer \n",
    "ls = LancasterStemmer()\n",
    "ls_stem_words = [ls.stem(word.lower()) for word in words]\n",
    "print('Stem word after Lancaster Stemming:',ls_stem_words)"
   ]
  },
  {
   "cell_type": "markdown",
   "id": "2ef439a8-c717-4305-a2ee-6ed568d51fd5",
   "metadata": {},
   "source": [
    "### Words Comparison for the All Three Algorithms"
   ]
  },
  {
   "cell_type": "code",
   "execution_count": 20,
   "id": "c6d85436-064b-485e-af42-06d07af3252e",
   "metadata": {},
   "outputs": [
    {
     "name": "stdout",
     "output_type": "stream",
     "text": [
      "playing ====> Porter Stemmer ====>  play\n",
      "playing ====> Snow Ball Stemmer ===>  play\n",
      "playing ====> Lancaster Stemmer ===>  play\n",
      "************************\n",
      "played ====> Porter Stemmer ====>  play\n",
      "played ====> Snow Ball Stemmer ===>  play\n",
      "played ====> Lancaster Stemmer ===>  play\n",
      "************************\n",
      "children ====> Porter Stemmer ====>  children\n",
      "children ====> Snow Ball Stemmer ===>  children\n",
      "children ====> Lancaster Stemmer ===>  childr\n",
      "************************\n",
      "games ====> Porter Stemmer ====>  game\n",
      "games ====> Snow Ball Stemmer ===>  game\n",
      "games ====> Lancaster Stemmer ===>  gam\n",
      "************************\n",
      "having ====> Porter Stemmer ====>  have\n",
      "having ====> Snow Ball Stemmer ===>  have\n",
      "having ====> Lancaster Stemmer ===>  hav\n",
      "************************\n",
      "happily ====> Porter Stemmer ====>  happili\n",
      "happily ====> Snow Ball Stemmer ===>  happili\n",
      "happily ====> Lancaster Stemmer ===>  happy\n",
      "************************\n",
      "congratulation ====> Porter Stemmer ====>  congratul\n",
      "congratulation ====> Snow Ball Stemmer ===>  congratul\n",
      "congratulation ====> Lancaster Stemmer ===>  congrat\n",
      "************************\n"
     ]
    }
   ],
   "source": [
    "my_selected_words = [\"playing\",\"played\",\"children\",\"games\",\"having\",\"happily\",\"congratulation\"]\n",
    "for my_words in my_selected_words:\n",
    "    print(my_words,'====> Porter Stemmer ====> ',ps.stem(my_words))\n",
    "    print(my_words,'====> Snow Ball Stemmer ===> ',sbs.stem(my_words))\n",
    "    print(my_words,'====> Lancaster Stemmer ===> ',ls.stem(my_words))\n",
    "    print(\"************************\")"
   ]
  },
  {
   "cell_type": "code",
   "execution_count": null,
   "id": "7bf09827-9606-4461-82fd-15e99ba08e3b",
   "metadata": {},
   "outputs": [],
   "source": []
  }
 ],
 "metadata": {
  "kernelspec": {
   "display_name": "Python 3 (ipykernel)",
   "language": "python",
   "name": "python3"
  },
  "language_info": {
   "codemirror_mode": {
    "name": "ipython",
    "version": 3
   },
   "file_extension": ".py",
   "mimetype": "text/x-python",
   "name": "python",
   "nbconvert_exporter": "python",
   "pygments_lexer": "ipython3",
   "version": "3.12.7"
  }
 },
 "nbformat": 4,
 "nbformat_minor": 5
}
