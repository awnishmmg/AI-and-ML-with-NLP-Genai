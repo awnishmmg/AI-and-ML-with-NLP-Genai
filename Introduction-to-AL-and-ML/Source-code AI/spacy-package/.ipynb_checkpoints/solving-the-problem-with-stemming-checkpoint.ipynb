{
 "cells": [
  {
   "cell_type": "markdown",
   "id": "ebd4ae38-a25e-4797-a734-c1e12747898a",
   "metadata": {},
   "source": [
    "## Search Engine using request module"
   ]
  },
  {
   "cell_type": "code",
   "execution_count": 3,
   "id": "6c812c20-efec-4899-bb4e-f06eabbedb88",
   "metadata": {},
   "outputs": [],
   "source": [
    "import requests as rq\n",
    "from bs4 import BeautifulSoup"
   ]
  },
  {
   "cell_type": "code",
   "execution_count": 5,
   "id": "6b3a550d-56f2-4c36-b06b-93893559f949",
   "metadata": {},
   "outputs": [
    {
     "name": "stdin",
     "output_type": "stream",
     "text": [
      "Search Anything... congratulations\n"
     ]
    },
    {
     "name": "stdout",
     "output_type": "stream",
     "text": [
      "Actual Word: congratulations\n",
      "Stemmed Word: congratul\n",
      "Token Size Exceeded\n"
     ]
    }
   ],
   "source": [
    "q = input('Search Anything...')\n",
    "print('Actual Word:',q)\n",
    "from nltk.stem import PorterStemmer\n",
    "stemmer = PorterStemmer()\n",
    "q = stemmer.stem(q)\n",
    "print('Stemmed Word:',q)\n",
    "if len(q) > 5:\n",
    "    print('Token Size Exceeded')\n",
    "else:\n",
    "    url = f\"https://html.duckduckgo.com/html/?q={q}\"\n",
    "    headers = {\n",
    "        \"User-Agent\":\"Mozilla/5.0\"\n",
    "    }\n",
    "    resp = rq.get(url, headers=headers)\n",
    "    soup = BeautifulSoup(resp.text, 'html.parser')\n",
    "    i = 1\n",
    "    for link in soup.select('.result__title a'):\n",
    "        print(i,':',link.text)\n",
    "        i = i+1"
   ]
  }
 ],
 "metadata": {
  "kernelspec": {
   "display_name": "Python 3 (ipykernel)",
   "language": "python",
   "name": "python3"
  },
  "language_info": {
   "codemirror_mode": {
    "name": "ipython",
    "version": 3
   },
   "file_extension": ".py",
   "mimetype": "text/x-python",
   "name": "python",
   "nbconvert_exporter": "python",
   "pygments_lexer": "ipython3",
   "version": "3.12.7"
  }
 },
 "nbformat": 4,
 "nbformat_minor": 5
}
