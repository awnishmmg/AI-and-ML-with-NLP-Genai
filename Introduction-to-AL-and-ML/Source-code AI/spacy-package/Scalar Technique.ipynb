{
 "cells": [
  {
   "cell_type": "markdown",
   "id": "0315981b-a734-479d-a1e6-706969796e9f",
   "metadata": {},
   "source": [
    "### Scalar Technique of Vectorisation"
   ]
  },
  {
   "cell_type": "code",
   "execution_count": 36,
   "id": "3ad3ff01-0627-44fa-8a14-9821a485bebe",
   "metadata": {},
   "outputs": [],
   "source": [
    "a = [1,2,3,4] #v1 "
   ]
  },
  {
   "cell_type": "code",
   "execution_count": 38,
   "id": "ec5f740f-f135-42f6-9af0-e9951b8c4c31",
   "metadata": {},
   "outputs": [],
   "source": [
    "b=[2,2,2,2] #v2"
   ]
  },
  {
   "cell_type": "code",
   "execution_count": 40,
   "id": "a6f52e3c-b909-435e-a409-293d94df60b8",
   "metadata": {},
   "outputs": [],
   "source": [
    "def check_dimension(a,b):\n",
    "    if len(a) ==  len(b):\n",
    "        return True\n",
    "    return False"
   ]
  },
  {
   "cell_type": "code",
   "execution_count": 42,
   "id": "9520f51e-57b3-4fd8-846c-0092573cba48",
   "metadata": {},
   "outputs": [
    {
     "data": {
      "text/plain": [
       "True"
      ]
     },
     "execution_count": 42,
     "metadata": {},
     "output_type": "execute_result"
    }
   ],
   "source": [
    "check_dimension(a,b)"
   ]
  },
  {
   "cell_type": "code",
   "execution_count": 44,
   "id": "7dc1fb94-439d-4c18-90d8-4645a27eab0f",
   "metadata": {},
   "outputs": [
    {
     "data": {
      "text/plain": [
       "False"
      ]
     },
     "execution_count": 44,
     "metadata": {},
     "output_type": "execute_result"
    }
   ],
   "source": [
    "c=[1,2,3] #v2\n",
    "check_dimension(a,c)"
   ]
  },
  {
   "cell_type": "code",
   "execution_count": 46,
   "id": "9e22ae6b-9680-4a69-a8f2-3e14e17b8482",
   "metadata": {},
   "outputs": [],
   "source": [
    "result =[]\n",
    "if(check_dimension(a,b)):\n",
    "    for i in range(len(a)): #len(b)\n",
    "        result.append(a[i]*b[i])  #addition,multiplication,"
   ]
  },
  {
   "cell_type": "code",
   "execution_count": 48,
   "id": "7b1e4703-4fa7-41e4-a396-f32f8a1937a9",
   "metadata": {},
   "outputs": [
    {
     "name": "stdout",
     "output_type": "stream",
     "text": [
      "[2, 4, 6, 8]\n"
     ]
    }
   ],
   "source": [
    "print(result)"
   ]
  },
  {
   "cell_type": "code",
   "execution_count": 50,
   "id": "ae5eb314-e40a-4818-b034-2456da44abbf",
   "metadata": {},
   "outputs": [
    {
     "data": {
      "text/plain": [
       "True"
      ]
     },
     "execution_count": 50,
     "metadata": {},
     "output_type": "execute_result"
    }
   ],
   "source": [
    "check_dimension(result,a)"
   ]
  },
  {
   "cell_type": "code",
   "execution_count": 52,
   "id": "b1621038-be0f-4b08-895d-1576f8e7a907",
   "metadata": {},
   "outputs": [
    {
     "data": {
      "text/plain": [
       "True"
      ]
     },
     "execution_count": 52,
     "metadata": {},
     "output_type": "execute_result"
    }
   ],
   "source": [
    "check_dimension(result,b)"
   ]
  },
  {
   "cell_type": "markdown",
   "id": "e573a1b9-771a-46e1-badd-c5c65a820081",
   "metadata": {},
   "source": [
    "#### How to Dynamically use *args"
   ]
  },
  {
   "cell_type": "code",
   "execution_count": 56,
   "id": "3acfc93d-82c0-4270-9e6a-cf83169dd419",
   "metadata": {},
   "outputs": [],
   "source": [
    "def is_valid_dimension(*args):\n",
    "    if not args:\n",
    "        return True\n",
    "    size = len(args[0])\n",
    "    return all(len(arg) == size for arg in args[1:])"
   ]
  },
  {
   "cell_type": "code",
   "execution_count": 58,
   "id": "2e232144-9196-443b-9b82-5c22d848cbdb",
   "metadata": {},
   "outputs": [
    {
     "data": {
      "text/plain": [
       "True"
      ]
     },
     "execution_count": 58,
     "metadata": {},
     "output_type": "execute_result"
    }
   ],
   "source": [
    "is_valid_dimension([1,0,1],[1,1,1],[0,1,0])"
   ]
  },
  {
   "cell_type": "code",
   "execution_count": 60,
   "id": "834c7603-b00b-497c-8b1a-987908d3f701",
   "metadata": {},
   "outputs": [
    {
     "data": {
      "text/plain": [
       "False"
      ]
     },
     "execution_count": 60,
     "metadata": {},
     "output_type": "execute_result"
    }
   ],
   "source": [
    "is_valid_dimension([1,0,1],[1,1,1],[0,1,0,6])"
   ]
  },
  {
   "cell_type": "code",
   "execution_count": null,
   "id": "f735478a-bbe0-4b82-890d-3269a48eee48",
   "metadata": {},
   "outputs": [],
   "source": []
  }
 ],
 "metadata": {
  "kernelspec": {
   "display_name": "Python [conda env:venv]",
   "language": "python",
   "name": "conda-env-venv-py"
  },
  "language_info": {
   "codemirror_mode": {
    "name": "ipython",
    "version": 3
   },
   "file_extension": ".py",
   "mimetype": "text/x-python",
   "name": "python",
   "nbconvert_exporter": "python",
   "pygments_lexer": "ipython3",
   "version": "3.12.0"
  }
 },
 "nbformat": 4,
 "nbformat_minor": 5
}
