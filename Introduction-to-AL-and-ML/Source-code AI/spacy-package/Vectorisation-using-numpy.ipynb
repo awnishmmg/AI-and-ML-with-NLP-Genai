{
 "cells": [
  {
   "cell_type": "markdown",
   "id": "4e95b3f9-febe-4e34-8f18-d2081fb438ab",
   "metadata": {},
   "source": [
    "### Vector for of Vectorisation or Cross product"
   ]
  },
  {
   "cell_type": "code",
   "execution_count": 4,
   "id": "b6adcf4e-f620-400b-ba94-53466a517ee7",
   "metadata": {},
   "outputs": [],
   "source": [
    "import numpy as np"
   ]
  },
  {
   "cell_type": "code",
   "execution_count": 29,
   "id": "f0a90693-7c41-4d17-a812-bda13cf66f1c",
   "metadata": {},
   "outputs": [],
   "source": [
    "a = np.array([1,2,3,4]) #v1"
   ]
  },
  {
   "cell_type": "code",
   "execution_count": 31,
   "id": "1895726a-6779-4188-9a83-645e18ccd022",
   "metadata": {},
   "outputs": [],
   "source": [
    "b = np.array([2,2,2,2]) #v2"
   ]
  },
  {
   "cell_type": "markdown",
   "id": "4aaabb92-cf94-4d5c-af2d-57adb9d8e98f",
   "metadata": {},
   "source": [
    "### Checking the Valid Dimension Functions"
   ]
  },
  {
   "cell_type": "code",
   "execution_count": 10,
   "id": "8680e3a3-ce71-4e36-8680-72244f6d8d75",
   "metadata": {},
   "outputs": [],
   "source": [
    "def is_valid_dimension(*args):\n",
    "    return len(set(arr.shape[0] for arr in args)) == 1"
   ]
  },
  {
   "cell_type": "code",
   "execution_count": 12,
   "id": "3a272f1e-4023-42de-ad58-a7fe9f7afa2c",
   "metadata": {},
   "outputs": [
    {
     "data": {
      "text/plain": [
       "True"
      ]
     },
     "execution_count": 12,
     "metadata": {},
     "output_type": "execute_result"
    }
   ],
   "source": [
    "is_valid_dimension(a,b)"
   ]
  },
  {
   "cell_type": "code",
   "execution_count": 14,
   "id": "8cdeb98e-1226-4f50-b9b1-273cd2c554af",
   "metadata": {},
   "outputs": [],
   "source": [
    "c = np.array([1,2,3,4,5]) #v3"
   ]
  },
  {
   "cell_type": "markdown",
   "id": "eecce08b-72bd-4ce6-b590-d0dff3584ff3",
   "metadata": {},
   "source": [
    "### Checking for Invalid Dimension"
   ]
  },
  {
   "cell_type": "code",
   "execution_count": 20,
   "id": "62376420-3e8d-4714-8ca3-47890cd7af69",
   "metadata": {},
   "outputs": [
    {
     "data": {
      "text/plain": [
       "False"
      ]
     },
     "execution_count": 20,
     "metadata": {},
     "output_type": "execute_result"
    }
   ],
   "source": [
    "is_valid_dimension(a,b,c)"
   ]
  },
  {
   "cell_type": "markdown",
   "id": "778552e3-7ea0-42c8-9943-2b6232180fa9",
   "metadata": {},
   "source": [
    "Note : any operation in Numpy will result in numpy array itself"
   ]
  },
  {
   "cell_type": "code",
   "execution_count": 33,
   "id": "9863c478-dd96-414a-bd82-9586110ac335",
   "metadata": {},
   "outputs": [],
   "source": [
    "result = a*b # cross-product."
   ]
  },
  {
   "cell_type": "code",
   "execution_count": 35,
   "id": "d638d3d0-78f8-4393-b1f0-842255d6d0df",
   "metadata": {},
   "outputs": [
    {
     "name": "stdout",
     "output_type": "stream",
     "text": [
      "[2 4 6 8]\n"
     ]
    }
   ],
   "source": [
    "print(result)"
   ]
  }
 ],
 "metadata": {
  "kernelspec": {
   "display_name": "Python [conda env:base] *",
   "language": "python",
   "name": "conda-base-py"
  },
  "language_info": {
   "codemirror_mode": {
    "name": "ipython",
    "version": 3
   },
   "file_extension": ".py",
   "mimetype": "text/x-python",
   "name": "python",
   "nbconvert_exporter": "python",
   "pygments_lexer": "ipython3",
   "version": "3.12.7"
  }
 },
 "nbformat": 4,
 "nbformat_minor": 5
}
