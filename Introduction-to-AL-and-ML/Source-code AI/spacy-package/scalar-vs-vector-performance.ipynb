{
 "cells": [
  {
   "cell_type": "markdown",
   "id": "3ec873f5-47fc-4ceb-8705-a30f4ba1a14a",
   "metadata": {},
   "source": [
    "### scalar Technique"
   ]
  },
  {
   "cell_type": "code",
   "execution_count": 6,
   "id": "9ba51295-6bd9-4203-9535-01ebd8a20552",
   "metadata": {},
   "outputs": [],
   "source": [
    "import time as t"
   ]
  },
  {
   "cell_type": "code",
   "execution_count": 4,
   "id": "7b10ccff-1b65-4757-92b4-3421069aad9d",
   "metadata": {},
   "outputs": [],
   "source": [
    "import numpy as np #vector"
   ]
  },
  {
   "cell_type": "code",
   "execution_count": 18,
   "id": "db3f8858-8d81-4652-99f9-34a3bf896bae",
   "metadata": {},
   "outputs": [],
   "source": [
    "size = 100000\n",
    "a = list(range(size)) # 1Lakh"
   ]
  },
  {
   "cell_type": "code",
   "execution_count": 20,
   "id": "6197c297-6a2e-40c2-900e-12b2a71b0746",
   "metadata": {},
   "outputs": [],
   "source": [
    "b = list(range(size)) # 1Lakh"
   ]
  },
  {
   "cell_type": "code",
   "execution_count": 30,
   "id": "9e773769-ec09-44a4-85ff-e31ed68ede5c",
   "metadata": {},
   "outputs": [
    {
     "name": "stdout",
     "output_type": "stream",
     "text": [
      "Total time : 0.028696775436401367\n"
     ]
    }
   ],
   "source": [
    "# loops : scalar \n",
    "start_time = t.time()\n",
    "c=[a[i]*b[i] for i in range(size)]\n",
    "end_time = t.time()\n",
    "print('Total time :',end_time-start_time)"
   ]
  },
  {
   "cell_type": "code",
   "execution_count": 32,
   "id": "f9d39cb5-a205-4f57-ab07-c5158073ad78",
   "metadata": {},
   "outputs": [
    {
     "name": "stdout",
     "output_type": "stream",
     "text": [
      "Total time : 0.0013322830200195312\n"
     ]
    }
   ],
   "source": [
    "# numpy vector \n",
    "a_np = np.array(a)\n",
    "b_np = np.array(b)\n",
    "\n",
    "start_time = t.time()\n",
    "c_np=a_np*b_np\n",
    "end_time = t.time()\n",
    "print('Total time :',end_time-start_time)"
   ]
  },
  {
   "cell_type": "markdown",
   "id": "1dee1706-2e4d-49e8-990e-05bae5c8c1b7",
   "metadata": {},
   "source": [
    "Moral of Story : Vectorisation for Vector is very fast then Scalars."
   ]
  },
  {
   "cell_type": "code",
   "execution_count": null,
   "id": "3781d0df-59c3-4d08-a349-a2f2f1dd713b",
   "metadata": {},
   "outputs": [],
   "source": []
  }
 ],
 "metadata": {
  "kernelspec": {
   "display_name": "Python [conda env:base] *",
   "language": "python",
   "name": "conda-base-py"
  },
  "language_info": {
   "codemirror_mode": {
    "name": "ipython",
    "version": 3
   },
   "file_extension": ".py",
   "mimetype": "text/x-python",
   "name": "python",
   "nbconvert_exporter": "python",
   "pygments_lexer": "ipython3",
   "version": "3.12.7"
  }
 },
 "nbformat": 4,
 "nbformat_minor": 5
}
