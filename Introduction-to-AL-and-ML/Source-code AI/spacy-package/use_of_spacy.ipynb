{
 "cells": [
  {
   "cell_type": "markdown",
   "id": "34ae17f9-2cb3-4faa-bd33-1e05b842d0e3",
   "metadata": {},
   "source": [
    "## Demo of Spacy Package ##"
   ]
  },
  {
   "cell_type": "code",
   "execution_count": 2,
   "id": "2f9f0786-c56b-4993-a14d-c8808deafaad",
   "metadata": {},
   "outputs": [],
   "source": [
    "import spacy"
   ]
  },
  {
   "cell_type": "code",
   "execution_count": 3,
   "id": "58e9abaa-6406-430b-85c6-3864c6ef8156",
   "metadata": {},
   "outputs": [
    {
     "data": {
      "text/plain": [
       "<module 'spacy.about' from 'D:\\\\iu-training\\\\Introduction-to-AL-and-ML\\\\Source-code AI\\\\spacy-package\\\\myenv\\\\Lib\\\\site-packages\\\\spacy\\\\about.py'>"
      ]
     },
     "execution_count": 3,
     "metadata": {},
     "output_type": "execute_result"
    }
   ],
   "source": [
    "spacy.about"
   ]
  },
  {
   "cell_type": "code",
   "execution_count": 4,
   "id": "f3d0805a-a5fb-4e8e-b879-8e42339f82b9",
   "metadata": {},
   "outputs": [
    {
     "data": {
      "text/plain": [
       "'3.8.7'"
      ]
     },
     "execution_count": 4,
     "metadata": {},
     "output_type": "execute_result"
    }
   ],
   "source": [
    "spacy.__version__"
   ]
  },
  {
   "cell_type": "code",
   "execution_count": 5,
   "id": "4efab0ec-574d-47e1-b583-b7de234b0cd8",
   "metadata": {},
   "outputs": [
    {
     "data": {
      "text/plain": [
       "<spacy.lang.en.English at 0x1eee7accf20>"
      ]
     },
     "execution_count": 5,
     "metadata": {},
     "output_type": "execute_result"
    }
   ],
   "source": [
    "spacy.load('en_core_web_sm')"
   ]
  },
  {
   "cell_type": "code",
   "execution_count": 6,
   "id": "63d514b3-9a8e-4a21-9933-e7745f3a77b1",
   "metadata": {},
   "outputs": [],
   "source": [
    "### Our Steps of Tokensization are : Corpus > documnets > words > vocubalarly "
   ]
  },
  {
   "cell_type": "code",
   "execution_count": 10,
   "id": "ac56775b-4d36-4e10-a94f-0d719dab9bf3",
   "metadata": {},
   "outputs": [],
   "source": [
    "corpus = ''' Mr. Shahrukh Likes the Vadapav of Mumbai. And Mr. Salman Khan Like Chaat of the New Delhi''' "
   ]
  },
  {
   "cell_type": "code",
   "execution_count": 11,
   "id": "97c1794a-f0cd-40c7-8cce-fe8db3273747",
   "metadata": {},
   "outputs": [
    {
     "name": "stdout",
     "output_type": "stream",
     "text": [
      "My Corpus:  Mr. Shahrukh Likes the Vadapav of Mumbai. And Mr. Salman Khan Like Chaat of the New Delhi\n"
     ]
    }
   ],
   "source": [
    "print('My Corpus:',corpus)"
   ]
  },
  {
   "cell_type": "code",
   "execution_count": 19,
   "id": "d7200dc3-d59b-4c32-b5c2-ab2cfedd1589",
   "metadata": {},
   "outputs": [],
   "source": [
    "nlp = spacy.load('en_core_web_sm') # using english model in spacy for nlp. : Object it is a class."
   ]
  },
  {
   "cell_type": "code",
   "execution_count": 13,
   "id": "3c5b74f1-7f3b-4663-bb85-7c60f11e7070",
   "metadata": {},
   "outputs": [],
   "source": [
    "documents = nlp(corpus)"
   ]
  },
  {
   "cell_type": "code",
   "execution_count": 14,
   "id": "fbfc60e7-b5ec-4189-9c66-e0acee0773dc",
   "metadata": {},
   "outputs": [
    {
     "name": "stdout",
     "output_type": "stream",
     "text": [
      "documents or sentences :  Mr. Shahrukh Likes the Vadapav of Mumbai. And Mr. Salman Khan Like Chaat of the New Delhi\n"
     ]
    }
   ],
   "source": [
    "print('documents or sentences :',documents)"
   ]
  },
  {
   "cell_type": "code",
   "execution_count": 15,
   "id": "1b924ff0-24e2-4308-b510-c290c1f82c38",
   "metadata": {},
   "outputs": [
    {
     "name": "stdout",
     "output_type": "stream",
     "text": [
      "documents or sentences : <_cython_3_1_1.generator object at 0x000001EEE9B69990>\n"
     ]
    }
   ],
   "source": [
    "print('documents or sentences :',documents.sents)"
   ]
  },
  {
   "cell_type": "code",
   "execution_count": 16,
   "id": "cc3a85dd-b9ba-4d08-90a1-ccab406ab071",
   "metadata": {},
   "outputs": [
    {
     "name": "stdout",
     "output_type": "stream",
     "text": [
      " Mr. Shahrukh Likes the Vadapav of Mumbai.\n",
      "And Mr. Salman Khan Like Chaat of the New Delhi\n"
     ]
    }
   ],
   "source": [
    "for sentence in documents.sents:\n",
    "    print(sentence)"
   ]
  },
  {
   "cell_type": "code",
   "execution_count": 17,
   "id": "e12be332-a324-471d-8656-ab9358e2f8ab",
   "metadata": {},
   "outputs": [],
   "source": [
    "sentences_list = [sentence for sentence in documents.sents]"
   ]
  },
  {
   "cell_type": "code",
   "execution_count": 18,
   "id": "61935a0e-de80-4ff8-9346-b4934a05c2f7",
   "metadata": {},
   "outputs": [
    {
     "name": "stdout",
     "output_type": "stream",
     "text": [
      "[ Mr. Shahrukh Likes the Vadapav of Mumbai., And Mr. Salman Khan Like Chaat of the New Delhi]\n"
     ]
    }
   ],
   "source": [
    "print(sentences_list)"
   ]
  },
  {
   "cell_type": "code",
   "execution_count": 24,
   "id": "5d4f8bd0-40b9-4b9c-83ab-c29c02273521",
   "metadata": {},
   "outputs": [
    {
     "name": "stdout",
     "output_type": "stream",
     "text": [
      " \n",
      "Mr.\n",
      "Shahrukh\n",
      "Likes\n",
      "the\n",
      "Vadapav\n",
      "of\n",
      "Mumbai\n",
      ".\n",
      "And\n",
      "Mr.\n",
      "Salman\n",
      "Khan\n",
      "Like\n",
      "Chaat\n",
      "of\n",
      "the\n",
      "New\n",
      "Delhi\n"
     ]
    }
   ],
   "source": [
    "words = []\n",
    "for sentence in documents.sents:\n",
    "    #print(sentence)\n",
    "    for word in sentence:\n",
    "        #print(word)"
   ]
  },
  {
   "cell_type": "code",
   "execution_count": 34,
   "id": "713ee0b7-0755-44a8-bfea-7d77e7608801",
   "metadata": {},
   "outputs": [],
   "source": [
    "words = []\n",
    "for sentence in documents.sents:\n",
    "    #print(sentence)\n",
    "    for word in sentence:\n",
    "        words.append(str(word).lower())"
   ]
  },
  {
   "cell_type": "code",
   "execution_count": 35,
   "id": "7e1b3cb4-30ec-4e8f-a93b-fffd69625763",
   "metadata": {},
   "outputs": [
    {
     "name": "stdout",
     "output_type": "stream",
     "text": [
      "words: [' ', 'mr.', 'shahrukh', 'likes', 'the', 'vadapav', 'of', 'mumbai', '.', 'and', 'mr.', 'salman', 'khan', 'like', 'chaat', 'of', 'the', 'new', 'delhi']\n"
     ]
    }
   ],
   "source": [
    "print('words:',words)"
   ]
  },
  {
   "cell_type": "code",
   "execution_count": 36,
   "id": "ddb0b4f7-62d8-4764-ac2a-36f67dac6656",
   "metadata": {},
   "outputs": [
    {
     "name": "stdout",
     "output_type": "stream",
     "text": [
      "type of words <class 'str'>\n"
     ]
    }
   ],
   "source": [
    "print('type of words',type(words[0]))"
   ]
  },
  {
   "cell_type": "code",
   "execution_count": 37,
   "id": "84f8bee0-2502-420e-af65-6cacd93ed85d",
   "metadata": {},
   "outputs": [
    {
     "name": "stdout",
     "output_type": "stream",
     "text": [
      "type of words <class 'str'>\n"
     ]
    }
   ],
   "source": [
    "print('type of words',type(words[0]))"
   ]
  },
  {
   "cell_type": "code",
   "execution_count": 39,
   "id": "bc2ccc7b-26a0-4c2f-add1-6cdb6b2d90a4",
   "metadata": {},
   "outputs": [
    {
     "name": "stdout",
     "output_type": "stream",
     "text": [
      "len of words : 19\n"
     ]
    }
   ],
   "source": [
    "print('len of words :',len(words))"
   ]
  },
  {
   "cell_type": "code",
   "execution_count": 40,
   "id": "2559e880-ec44-4d79-97e1-ee010bc31e2f",
   "metadata": {},
   "outputs": [],
   "source": [
    "vocabs =  set(words)"
   ]
  },
  {
   "cell_type": "code",
   "execution_count": 41,
   "id": "32fbb992-93a7-42c2-a4a8-0c14f552f8d7",
   "metadata": {},
   "outputs": [
    {
     "name": "stdout",
     "output_type": "stream",
     "text": [
      "vocabs or unique word {'likes', 'salman', 'vadapav', 'chaat', 'khan', ' ', 'mumbai', 'new', 'shahrukh', 'mr.', '.', 'and', 'like', 'delhi', 'of', 'the'}\n"
     ]
    }
   ],
   "source": [
    "print('vocabs or unique word',vocabs)"
   ]
  },
  {
   "cell_type": "code",
   "execution_count": 43,
   "id": "38d5ed76-81e3-4e62-a671-4e68b3c3c60e",
   "metadata": {},
   "outputs": [
    {
     "name": "stdout",
     "output_type": "stream",
     "text": [
      "len of vocabs: 16\n"
     ]
    }
   ],
   "source": [
    "print('len of vocabs:',len(vocabs))"
   ]
  }
 ],
 "metadata": {
  "kernelspec": {
   "display_name": "Python 3 (ipykernel)",
   "language": "python",
   "name": "python3"
  },
  "language_info": {
   "codemirror_mode": {
    "name": "ipython",
    "version": 3
   },
   "file_extension": ".py",
   "mimetype": "text/x-python",
   "name": "python",
   "nbconvert_exporter": "python",
   "pygments_lexer": "ipython3",
   "version": "3.12.7"
  }
 },
 "nbformat": 4,
 "nbformat_minor": 5
}
