{
 "cells": [
  {
   "cell_type": "markdown",
   "id": "c462b980-b042-4725-957d-ddc63c850f28",
   "metadata": {},
   "source": [
    "### Word2Vec Training (custom corpus vector)"
   ]
  },
  {
   "cell_type": "code",
   "execution_count": 1,
   "id": "7f8264db-f1f3-4a15-8849-1ee3018231a4",
   "metadata": {},
   "outputs": [],
   "source": [
    "from gensim.models import Word2Vec"
   ]
  },
  {
   "cell_type": "code",
   "execution_count": 4,
   "id": "7f1cd48b-6b37-4cdc-8c1f-b358d53d222e",
   "metadata": {},
   "outputs": [],
   "source": [
    "import gensim.downloader as api"
   ]
  },
  {
   "cell_type": "code",
   "execution_count": 5,
   "id": "d324e47b-62c4-47bb-bfa9-edbaf0a0258e",
   "metadata": {},
   "outputs": [
    {
     "name": "stdout",
     "output_type": "stream",
     "text": [
      "Setences: [['machine', 'learning', 'is', 'fun'], ['NLP', 'is', 'a', 'good', 'part', 'of', 'generative', 'AI'], ['word2vec', 'creates', 'word', 'to', 'vector', 'embeddings']]\n"
     ]
    }
   ],
   "source": [
    "sentences = [\n",
    "    ['machine','learning','is','fun'],\n",
    "    ['NLP','is','a','good','part','of','generative','AI'],\n",
    "    ['word2vec','creates','word','to','vector','embeddings']\n",
    "]\n",
    "print('Setences:',sentences)"
   ]
  },
  {
   "cell_type": "code",
   "execution_count": 6,
   "id": "8b52e562-1f6a-4e5e-b1e7-79472c3b151b",
   "metadata": {},
   "outputs": [],
   "source": [
    "model = Word2Vec(sentences=sentences, vector_size=100, window=5, min_count=1, workers=4) #workers : thread : multi-threading"
   ]
  },
  {
   "cell_type": "code",
   "execution_count": 7,
   "id": "b0f26235-088a-4f62-873a-cb1637a97212",
   "metadata": {},
   "outputs": [
    {
     "name": "stdout",
     "output_type": "stream",
     "text": [
      "Vector of Word 2 Vec: [ 1.30016683e-03 -9.80430283e-03  4.58776252e-03 -5.38222783e-04\n",
      "  6.33209571e-03  1.78347470e-03 -3.12979822e-03  7.75997294e-03\n",
      "  1.55466562e-03  5.52093989e-05 -4.61295387e-03 -8.45352374e-03\n",
      " -7.76683213e-03  8.67050979e-03 -8.92496016e-03  9.03471559e-03\n",
      " -9.28101782e-03 -2.76756298e-04 -1.90704700e-03 -8.93114600e-03\n",
      "  8.63005966e-03  6.77781366e-03  3.01943906e-03  4.83345287e-03\n",
      "  1.12190246e-04  9.42468084e-03  7.02128746e-03 -9.85372625e-03\n",
      " -4.43322072e-03 -1.29011157e-03  3.04772262e-03 -4.32395237e-03\n",
      "  1.44916656e-03 -7.84589909e-03  2.77807354e-03  4.70269192e-03\n",
      "  4.93731257e-03 -3.17570218e-03 -8.42704065e-03 -9.22061782e-03\n",
      " -7.22899451e-04 -7.32746487e-03 -6.81496272e-03  6.12000562e-03\n",
      "  7.17230327e-03  2.11741915e-03 -7.89940078e-03 -5.69898821e-03\n",
      "  8.05184525e-03  3.92084382e-03 -5.24047017e-03 -7.39190448e-03\n",
      "  7.71554711e-04  3.46375466e-03  2.07919348e-03  3.10080405e-03\n",
      " -5.62050007e-03 -9.88948625e-03 -7.02083716e-03  2.30308768e-04\n",
      "  4.61867917e-03  4.52630781e-03  1.87981245e-03  5.17067453e-03\n",
      " -1.05360748e-04  4.11416637e-03 -9.12324060e-03  7.70091172e-03\n",
      "  6.14747405e-03  5.12415636e-03  7.20666908e-03  8.43979698e-03\n",
      "  7.38695846e-04 -1.70386070e-03  5.18628338e-04 -9.31678060e-03\n",
      "  8.40621442e-03 -6.37993217e-03  8.42784252e-03 -4.24435502e-03\n",
      "  6.46842702e-04 -9.16416850e-03 -9.55856778e-03 -7.83681031e-03\n",
      " -7.73105631e-03  3.75581993e-04 -7.22646248e-03 -4.95021325e-03\n",
      " -5.27170673e-03 -4.28929785e-03  7.01231137e-03  4.82938997e-03\n",
      "  8.68277065e-03  7.09359162e-03 -5.69440611e-03  7.24079600e-03\n",
      " -9.29490291e-03 -2.58756871e-03 -7.75716640e-03  4.19260142e-03]\n"
     ]
    }
   ],
   "source": [
    "print('Vector of Word 2 Vec:',model.wv['machine'])"
   ]
  },
  {
   "cell_type": "markdown",
   "id": "a96bb3f0-141f-4264-9ec8-0f09decf7c5d",
   "metadata": {},
   "source": [
    "##### How to save the Model so we need to perform same steps of vectorisation."
   ]
  },
  {
   "cell_type": "code",
   "execution_count": 8,
   "id": "b2441ec3-8949-421e-96af-3c57295ab0fb",
   "metadata": {},
   "outputs": [],
   "source": [
    "model.save(\"word2vec.model\") "
   ]
  },
  {
   "cell_type": "code",
   "execution_count": null,
   "id": "aff661d6-fc6e-4dd8-ade8-d56dbd394b2c",
   "metadata": {},
   "outputs": [],
   "source": []
  }
 ],
 "metadata": {
  "kernelspec": {
   "display_name": "Python 3 (ipykernel)",
   "language": "python",
   "name": "python3"
  },
  "language_info": {
   "codemirror_mode": {
    "name": "ipython",
    "version": 3
   },
   "file_extension": ".py",
   "mimetype": "text/x-python",
   "name": "python",
   "nbconvert_exporter": "python",
   "pygments_lexer": "ipython3",
   "version": "3.12.7"
  }
 },
 "nbformat": 4,
 "nbformat_minor": 5
}
