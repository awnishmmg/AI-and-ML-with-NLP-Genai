{
 "cells": [
  {
   "cell_type": "markdown",
   "id": "46e0bdbd-05b3-4752-b89f-d9e061d10d5e",
   "metadata": {},
   "source": [
    "### Vectorisation Technique : (stop words)"
   ]
  },
  {
   "cell_type": "code",
   "execution_count": 1,
   "id": "a5fb52c2-5dbc-4aa7-90bb-135b5eea4873",
   "metadata": {},
   "outputs": [],
   "source": [
    "import nltk"
   ]
  },
  {
   "cell_type": "code",
   "execution_count": null,
   "id": "8d04ad35-9296-48bf-83e2-4f44952a520e",
   "metadata": {},
   "outputs": [],
   "source": [
    "#download punkt model and punkt_tag mdel and stop words model"
   ]
  },
  {
   "cell_type": "code",
   "execution_count": 3,
   "id": "07893e42-1288-48c1-8380-cccf0b8fb7bc",
   "metadata": {},
   "outputs": [
    {
     "name": "stderr",
     "output_type": "stream",
     "text": [
      "[nltk_data] Downloading package punkt to\n",
      "[nltk_data]     C:\\Users\\Imart\\AppData\\Roaming\\nltk_data...\n",
      "[nltk_data]   Package punkt is already up-to-date!\n"
     ]
    },
    {
     "data": {
      "text/plain": [
       "True"
      ]
     },
     "execution_count": 3,
     "metadata": {},
     "output_type": "execute_result"
    }
   ],
   "source": [
    "nltk.download('punkt')"
   ]
  },
  {
   "cell_type": "code",
   "execution_count": 4,
   "id": "435b20c2-a0a2-45a4-b460-1bfe6ebcf7ac",
   "metadata": {},
   "outputs": [
    {
     "name": "stderr",
     "output_type": "stream",
     "text": [
      "[nltk_data] Downloading package punkt_tab to\n",
      "[nltk_data]     C:\\Users\\Imart\\AppData\\Roaming\\nltk_data...\n",
      "[nltk_data]   Package punkt_tab is already up-to-date!\n"
     ]
    },
    {
     "data": {
      "text/plain": [
       "True"
      ]
     },
     "execution_count": 4,
     "metadata": {},
     "output_type": "execute_result"
    }
   ],
   "source": [
    "nltk.download('punkt_tab')"
   ]
  },
  {
   "cell_type": "code",
   "execution_count": 5,
   "id": "2360dd63-4712-479a-825e-b3f7c36aca92",
   "metadata": {},
   "outputs": [
    {
     "name": "stderr",
     "output_type": "stream",
     "text": [
      "[nltk_data] Error loading stop_words: Package 'stop_words' not found\n",
      "[nltk_data]     in index\n"
     ]
    },
    {
     "data": {
      "text/plain": [
       "False"
      ]
     },
     "execution_count": 5,
     "metadata": {},
     "output_type": "execute_result"
    }
   ],
   "source": [
    "nltk.download('stop_words') #Wrtong Spelling of the packages."
   ]
  },
  {
   "cell_type": "code",
   "execution_count": 7,
   "id": "54bf7d72-b2ef-4d7f-a5db-272c922ddec2",
   "metadata": {},
   "outputs": [
    {
     "name": "stderr",
     "output_type": "stream",
     "text": [
      "[nltk_data] Downloading package stopwords to\n",
      "[nltk_data]     C:\\Users\\Imart\\AppData\\Roaming\\nltk_data...\n",
      "[nltk_data]   Package stopwords is already up-to-date!\n"
     ]
    },
    {
     "data": {
      "text/plain": [
       "True"
      ]
     },
     "execution_count": 7,
     "metadata": {},
     "output_type": "execute_result"
    }
   ],
   "source": [
    "nltk.download('stopwords')"
   ]
  },
  {
   "cell_type": "code",
   "execution_count": 8,
   "id": "111f44d5-ad99-446c-82bf-5bd6e267c98f",
   "metadata": {},
   "outputs": [],
   "source": [
    "# import stopwords from the nltk.corpus\n",
    "from nltk.corpus import stopwords"
   ]
  },
  {
   "cell_type": "code",
   "execution_count": 9,
   "id": "da21d1d6-7cc0-48ab-9ed6-2ed020241314",
   "metadata": {},
   "outputs": [],
   "source": [
    "# import the word tokenizer\n",
    "from nltk.tokenize import word_tokenize"
   ]
  },
  {
   "cell_type": "code",
   "execution_count": 11,
   "id": "c872f36a-3ad3-4932-8c20-7ccb6353a0f9",
   "metadata": {},
   "outputs": [],
   "source": [
    "corpus = \"This is simple example of vectorisation and tokenisation using stops word.\""
   ]
  },
  {
   "cell_type": "code",
   "execution_count": 13,
   "id": "d9bf6364-8ab8-4d82-8a07-9d02d98f2550",
   "metadata": {},
   "outputs": [
    {
     "name": "stdout",
     "output_type": "stream",
     "text": [
      "corpus: This is simple example of vectorisation and tokenisation using stops word.\n"
     ]
    }
   ],
   "source": [
    "print('corpus:',corpus)"
   ]
  },
  {
   "cell_type": "code",
   "execution_count": 14,
   "id": "81df6e72-290d-452c-8d18-b9f2a31aca88",
   "metadata": {},
   "outputs": [],
   "source": [
    "# we will perform tokenization"
   ]
  },
  {
   "cell_type": "code",
   "execution_count": 15,
   "id": "5c08dd16-3b5f-4e10-a2a4-ac4b2920b68c",
   "metadata": {},
   "outputs": [],
   "source": [
    "words = word_tokenize(corpus)"
   ]
  },
  {
   "cell_type": "code",
   "execution_count": 16,
   "id": "7b7e455c-8d3b-4bf7-9218-65dcecc0e7f1",
   "metadata": {},
   "outputs": [
    {
     "name": "stdout",
     "output_type": "stream",
     "text": [
      "finding the words: ['This', 'is', 'simple', 'example', 'of', 'vectorisation', 'and', 'tokenisation', 'using', 'stops', 'word', '.']\n"
     ]
    }
   ],
   "source": [
    "print('finding the words:',words)"
   ]
  },
  {
   "cell_type": "code",
   "execution_count": 17,
   "id": "e608b33c-3d78-408b-a170-c1a0d6884a07",
   "metadata": {},
   "outputs": [],
   "source": [
    "# Removing the Un-necessary words:-"
   ]
  },
  {
   "cell_type": "code",
   "execution_count": 19,
   "id": "376758c9-775a-45df-8811-4ce0332337c5",
   "metadata": {},
   "outputs": [],
   "source": [
    "english_stopwords = stopwords.words(\"english\")"
   ]
  },
  {
   "cell_type": "code",
   "execution_count": 20,
   "id": "fd8173c1-64fb-441a-b023-d68c08b1d992",
   "metadata": {},
   "outputs": [
    {
     "name": "stdout",
     "output_type": "stream",
     "text": [
      "English Words stop word: ['a', 'about', 'above', 'after', 'again', 'against', 'ain', 'all', 'am', 'an', 'and', 'any', 'are', 'aren', \"aren't\", 'as', 'at', 'be', 'because', 'been', 'before', 'being', 'below', 'between', 'both', 'but', 'by', 'can', 'couldn', \"couldn't\", 'd', 'did', 'didn', \"didn't\", 'do', 'does', 'doesn', \"doesn't\", 'doing', 'don', \"don't\", 'down', 'during', 'each', 'few', 'for', 'from', 'further', 'had', 'hadn', \"hadn't\", 'has', 'hasn', \"hasn't\", 'have', 'haven', \"haven't\", 'having', 'he', \"he'd\", \"he'll\", 'her', 'here', 'hers', 'herself', \"he's\", 'him', 'himself', 'his', 'how', 'i', \"i'd\", 'if', \"i'll\", \"i'm\", 'in', 'into', 'is', 'isn', \"isn't\", 'it', \"it'd\", \"it'll\", \"it's\", 'its', 'itself', \"i've\", 'just', 'll', 'm', 'ma', 'me', 'mightn', \"mightn't\", 'more', 'most', 'mustn', \"mustn't\", 'my', 'myself', 'needn', \"needn't\", 'no', 'nor', 'not', 'now', 'o', 'of', 'off', 'on', 'once', 'only', 'or', 'other', 'our', 'ours', 'ourselves', 'out', 'over', 'own', 're', 's', 'same', 'shan', \"shan't\", 'she', \"she'd\", \"she'll\", \"she's\", 'should', 'shouldn', \"shouldn't\", \"should've\", 'so', 'some', 'such', 't', 'than', 'that', \"that'll\", 'the', 'their', 'theirs', 'them', 'themselves', 'then', 'there', 'these', 'they', \"they'd\", \"they'll\", \"they're\", \"they've\", 'this', 'those', 'through', 'to', 'too', 'under', 'until', 'up', 've', 'very', 'was', 'wasn', \"wasn't\", 'we', \"we'd\", \"we'll\", \"we're\", 'were', 'weren', \"weren't\", \"we've\", 'what', 'when', 'where', 'which', 'while', 'who', 'whom', 'why', 'will', 'with', 'won', \"won't\", 'wouldn', \"wouldn't\", 'y', 'you', \"you'd\", \"you'll\", 'your', \"you're\", 'yours', 'yourself', 'yourselves', \"you've\"]\n"
     ]
    }
   ],
   "source": [
    "print('English Words stop word:',english_stopwords)"
   ]
  },
  {
   "cell_type": "code",
   "execution_count": 22,
   "id": "f1bd8bc0-9c84-44e6-a518-534d436735b3",
   "metadata": {},
   "outputs": [],
   "source": [
    "filtered_words = []\n",
    "for word in words:\n",
    "    word = word.lower() # lower word.\n",
    "    if word in english_stopwords:\n",
    "        pass\n",
    "    else:\n",
    "        filtered_words.append(word)"
   ]
  },
  {
   "cell_type": "code",
   "execution_count": 23,
   "id": "0723379c-e727-485f-93b3-d8f57e429e58",
   "metadata": {},
   "outputs": [
    {
     "name": "stdout",
     "output_type": "stream",
     "text": [
      "Filtered Words without stop words: ['simple', 'example', 'vectorisation', 'tokenisation', 'using', 'stops', 'word', '.']\n"
     ]
    }
   ],
   "source": [
    "print('Filtered Words without stop words:',filtered_words)"
   ]
  },
  {
   "cell_type": "code",
   "execution_count": 25,
   "id": "b119b8cd-3f5e-42b8-afbf-4b19ba33440d",
   "metadata": {},
   "outputs": [
    {
     "name": "stdout",
     "output_type": "stream",
     "text": [
      "Length of Original Words : 12\n",
      "Length of Filtered Words : 8\n"
     ]
    }
   ],
   "source": [
    "print('Length of Original Words :',len(words))\n",
    "print('Length of Filtered Words :',len(filtered_words))"
   ]
  }
 ],
 "metadata": {
  "kernelspec": {
   "display_name": "Python 3 (ipykernel)",
   "language": "python",
   "name": "python3"
  },
  "language_info": {
   "codemirror_mode": {
    "name": "ipython",
    "version": 3
   },
   "file_extension": ".py",
   "mimetype": "text/x-python",
   "name": "python",
   "nbconvert_exporter": "python",
   "pygments_lexer": "ipython3",
   "version": "3.12.7"
  }
 },
 "nbformat": 4,
 "nbformat_minor": 5
}
