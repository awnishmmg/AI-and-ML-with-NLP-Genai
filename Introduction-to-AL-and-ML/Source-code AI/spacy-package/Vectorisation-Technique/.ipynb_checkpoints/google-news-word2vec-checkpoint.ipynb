{
 "cells": [
  {
   "cell_type": "markdown",
   "id": "44a7c9c4-20de-4f09-bf69-6492d70205a3",
   "metadata": {},
   "source": [
    "### Word2Vector using google new Pretrained Model"
   ]
  },
  {
   "cell_type": "code",
   "execution_count": null,
   "id": "46f4c7f4-f8aa-43fc-a652-027b505e98a6",
   "metadata": {},
   "outputs": [],
   "source": [
    "from word2vec.AverageWord2Vec import avg_word_2_vector"
   ]
  }
 ],
 "metadata": {
  "kernelspec": {
   "display_name": "Python 3 (ipykernel)",
   "language": "python",
   "name": "python3"
  },
  "language_info": {
   "codemirror_mode": {
    "name": "ipython",
    "version": 3
   },
   "file_extension": ".py",
   "mimetype": "text/x-python",
   "name": "python",
   "nbconvert_exporter": "python",
   "pygments_lexer": "ipython3",
   "version": "3.12.7"
  }
 },
 "nbformat": 4,
 "nbformat_minor": 5
}
