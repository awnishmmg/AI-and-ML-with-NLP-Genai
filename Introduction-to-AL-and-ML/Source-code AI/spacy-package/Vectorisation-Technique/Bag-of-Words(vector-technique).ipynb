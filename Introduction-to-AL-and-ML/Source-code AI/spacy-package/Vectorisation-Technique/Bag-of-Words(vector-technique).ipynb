{
 "cells": [
  {
   "cell_type": "markdown",
   "id": "bdb3dbbd-7ccf-4d74-8552-ee0630db8706",
   "metadata": {},
   "source": [
    "### Text to Vector Conversion using BOW (Method)"
   ]
  },
  {
   "cell_type": "code",
   "execution_count": 3,
   "id": "8d51ffc9-097a-4885-9825-6d33a9aae99f",
   "metadata": {},
   "outputs": [],
   "source": [
    "from sklearn.feature_extraction.text import CountVectorizer"
   ]
  },
  {
   "cell_type": "code",
   "execution_count": 12,
   "id": "4a1f6a79-cfbb-4e5d-babb-2374eac3d94f",
   "metadata": {},
   "outputs": [],
   "source": [
    "corpus_arr = [\n",
    "    'We Love Machine Learning and Artificial Intelligence with NLP',\n",
    "    'Machine Learning and Artificial Intelligence is awesome',\n",
    "    'NLP is a Part of Machine Learning and Artificial Intelligence'\n",
    "]"
   ]
  },
  {
   "cell_type": "code",
   "execution_count": 13,
   "id": "8d627cf1-aaa7-42ac-ae66-0259e19a35a3",
   "metadata": {},
   "outputs": [
    {
     "name": "stdout",
     "output_type": "stream",
     "text": [
      "Corpus List: ['We Love Machine Learning and Artificial Intelligence with NLP', 'Machine Learning and Artificial Intelligence is awesome', 'NLP is a Part of Machine Learning and Artificial Intelligence']\n"
     ]
    }
   ],
   "source": [
    "print('Corpus List:',corpus_arr)"
   ]
  },
  {
   "cell_type": "code",
   "execution_count": 14,
   "id": "deb685e7-1be1-4dbb-9dcf-b6111e43faf2",
   "metadata": {},
   "outputs": [
    {
     "name": "stderr",
     "output_type": "stream",
     "text": [
      "[nltk_data] Downloading package punkt to\n",
      "[nltk_data]     C:\\Users\\Imart\\AppData\\Roaming\\nltk_data...\n",
      "[nltk_data]   Package punkt is already up-to-date!\n",
      "[nltk_data] Downloading package punkt_tab to\n",
      "[nltk_data]     C:\\Users\\Imart\\AppData\\Roaming\\nltk_data...\n",
      "[nltk_data]   Package punkt_tab is already up-to-date!\n"
     ]
    },
    {
     "data": {
      "text/plain": [
       "True"
      ]
     },
     "execution_count": 14,
     "metadata": {},
     "output_type": "execute_result"
    }
   ],
   "source": [
    "import nltk\n",
    "nltk.download('punkt')\n",
    "nltk.download('punkt_tab')"
   ]
  },
  {
   "cell_type": "code",
   "execution_count": 15,
   "id": "fed1034b-423c-4e00-8219-14751ff2e72d",
   "metadata": {},
   "outputs": [
    {
     "name": "stdout",
     "output_type": "stream",
     "text": [
      "We Love Machine Learning and Artificial Intelligence with NLP\n",
      "Machine Learning and Artificial Intelligence is awesome\n",
      "NLP is a Part of Machine Learning and Artificial Intelligence\n"
     ]
    }
   ],
   "source": [
    "from nltk.tokenize import sent_tokenize,word_tokenize\n",
    "for corpus in corpus_arr:\n",
    "    print(corpus)"
   ]
  },
  {
   "cell_type": "code",
   "execution_count": 19,
   "id": "cd59b0c5-f3c5-440c-8922-dbccf85583e9",
   "metadata": {},
   "outputs": [],
   "source": [
    "word_list = []\n",
    "from nltk.tokenize import sent_tokenize,word_tokenize\n",
    "for corpus in corpus_arr:\n",
    "    #print(word_tokenize(corpus))\n",
    "    word_list.append(word_tokenize(corpus))"
   ]
  },
  {
   "cell_type": "code",
   "execution_count": 20,
   "id": "ccb2f557-521e-4500-bb68-ee0266dce3f9",
   "metadata": {},
   "outputs": [
    {
     "name": "stdout",
     "output_type": "stream",
     "text": [
      "words list of each corpus: [['We', 'Love', 'Machine', 'Learning', 'and', 'Artificial', 'Intelligence', 'with', 'NLP'], ['Machine', 'Learning', 'and', 'Artificial', 'Intelligence', 'is', 'awesome'], ['NLP', 'is', 'a', 'Part', 'of', 'Machine', 'Learning', 'and', 'Artificial', 'Intelligence']]\n"
     ]
    }
   ],
   "source": [
    "print('words list of each corpus:',word_list)"
   ]
  },
  {
   "cell_type": "code",
   "execution_count": 22,
   "id": "81451bea-cd1d-4da9-b87d-6928ecd433af",
   "metadata": {},
   "outputs": [],
   "source": [
    "frequency_of_corpus = [len(w_list) for w_list in word_list]"
   ]
  },
  {
   "cell_type": "code",
   "execution_count": 23,
   "id": "1971a261-d7a7-4403-9fe5-8e6ecb8e2b9c",
   "metadata": {},
   "outputs": [
    {
     "name": "stdout",
     "output_type": "stream",
     "text": [
      "Frequency of the corpus: [9, 7, 10]\n"
     ]
    }
   ],
   "source": [
    "print('Frequency of the corpus:',frequency_of_corpus)"
   ]
  },
  {
   "cell_type": "code",
   "execution_count": 24,
   "id": "1aef8eab-c3dd-4797-81a0-0894792ff774",
   "metadata": {},
   "outputs": [],
   "source": [
    "## Using Bag of Words"
   ]
  },
  {
   "cell_type": "code",
   "execution_count": 33,
   "id": "a042e124-8a68-499d-9bcf-dba34f32e4cb",
   "metadata": {},
   "outputs": [
    {
     "name": "stdout",
     "output_type": "stream",
     "text": [
      "Transformed Matrix: <Compressed Sparse Row sparse matrix of dtype 'int64'\n",
      "\twith 25 stored elements and shape (3, 13)>\n",
      "  Coords\tValues\n",
      "  (0, 11)\t1\n",
      "  (0, 6)\t1\n",
      "  (0, 7)\t1\n",
      "  (0, 5)\t1\n",
      "  (0, 0)\t1\n",
      "  (0, 1)\t1\n",
      "  (0, 3)\t1\n",
      "  (0, 12)\t1\n",
      "  (0, 8)\t1\n",
      "  (1, 7)\t1\n",
      "  (1, 5)\t1\n",
      "  (1, 0)\t1\n",
      "  (1, 1)\t1\n",
      "  (1, 3)\t1\n",
      "  (1, 4)\t1\n",
      "  (1, 2)\t1\n",
      "  (2, 7)\t1\n",
      "  (2, 5)\t1\n",
      "  (2, 0)\t1\n",
      "  (2, 1)\t1\n",
      "  (2, 3)\t1\n",
      "  (2, 8)\t1\n",
      "  (2, 4)\t1\n",
      "  (2, 10)\t1\n",
      "  (2, 9)\t1\n"
     ]
    }
   ],
   "source": [
    "vectorizer = CountVectorizer() # Object of the CountVectorizer\n",
    "transformed_matrix = vectorizer.fit_transform(corpus_arr)\n",
    "print('Transformed Matrix:',matrix)"
   ]
  },
  {
   "cell_type": "code",
   "execution_count": 27,
   "id": "2fb7e5d7-b498-4dfd-b06b-dac748bebbce",
   "metadata": {},
   "outputs": [
    {
     "name": "stdout",
     "output_type": "stream",
     "text": [
      "lenght of the corpus: X: 3\n"
     ]
    }
   ],
   "source": [
    "# How to calculate the Order :-\n",
    "print('lenght of the corpus: X:',len(corpus_arr))"
   ]
  },
  {
   "cell_type": "code",
   "execution_count": 28,
   "id": "7e176454-9a2a-4e02-9384-c51d8f2ec1cc",
   "metadata": {},
   "outputs": [
    {
     "name": "stdout",
     "output_type": "stream",
     "text": [
      "Vocablary of the Corpus Array exclusing whitespace: 13\n"
     ]
    }
   ],
   "source": [
    "print('Vocablary of the Corpus Array exclusing whitespace:',13)"
   ]
  },
  {
   "cell_type": "code",
   "execution_count": 29,
   "id": "4c672fed-73f9-4940-90b1-cbe0d2ca6f1b",
   "metadata": {},
   "outputs": [
    {
     "name": "stdout",
     "output_type": "stream",
     "text": [
      "Vocablary of the Corpus Array including whitespace: 14\n"
     ]
    }
   ],
   "source": [
    "print('Vocablary of the Corpus Array including whitespace:',14)"
   ]
  },
  {
   "cell_type": "code",
   "execution_count": 32,
   "id": "5c321ca9-e92e-46cb-b3fd-60f5f4c4d19f",
   "metadata": {},
   "outputs": [
    {
     "name": "stdout",
     "output_type": "stream",
     "text": [
      "Order of the courpus Array : 3 x 13\n"
     ]
    }
   ],
   "source": [
    "X = len(corpus_arr)\n",
    "Y = 13\n",
    "print('Order of the courpus Array :',X,'x',Y)"
   ]
  },
  {
   "cell_type": "code",
   "execution_count": 34,
   "id": "62df859f-bb44-4917-ba10-efabbbf49615",
   "metadata": {},
   "outputs": [
    {
     "name": "stdout",
     "output_type": "stream",
     "text": [
      "Vocabulary : {'we': 11, 'love': 6, 'machine': 7, 'learning': 5, 'and': 0, 'artificial': 1, 'intelligence': 3, 'with': 12, 'nlp': 8, 'is': 4, 'awesome': 2, 'part': 10, 'of': 9}\n"
     ]
    }
   ],
   "source": [
    "print('Vocabulary :',vectorizer.vocabulary_)"
   ]
  },
  {
   "cell_type": "code",
   "execution_count": 35,
   "id": "23410bbf-87c3-4641-87da-d689d666f4f5",
   "metadata": {},
   "outputs": [
    {
     "name": "stdout",
     "output_type": "stream",
     "text": [
      "Bow Matrix : [[1 1 0 1 0 1 1 1 1 0 0 1 1]\n",
      " [1 1 1 1 1 1 0 1 0 0 0 0 0]\n",
      " [1 1 0 1 1 1 0 1 1 1 1 0 0]]\n"
     ]
    }
   ],
   "source": [
    "print('Bow Matrix :',transformed_matrix.toarray())"
   ]
  },
  {
   "cell_type": "code",
   "execution_count": null,
   "id": "fce8687d-79a6-4a3d-99a8-c22ad8133a7c",
   "metadata": {},
   "outputs": [],
   "source": []
  }
 ],
 "metadata": {
  "kernelspec": {
   "display_name": "Python 3 (ipykernel)",
   "language": "python",
   "name": "python3"
  },
  "language_info": {
   "codemirror_mode": {
    "name": "ipython",
    "version": 3
   },
   "file_extension": ".py",
   "mimetype": "text/x-python",
   "name": "python",
   "nbconvert_exporter": "python",
   "pygments_lexer": "ipython3",
   "version": "3.12.7"
  }
 },
 "nbformat": 4,
 "nbformat_minor": 5
}
