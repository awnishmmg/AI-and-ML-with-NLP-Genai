{
 "cells": [
  {
   "cell_type": "markdown",
   "id": "44307e37",
   "metadata": {},
   "source": [
    "##### Demo of Pickle Package "
   ]
  },
  {
   "cell_type": "code",
   "execution_count": 12,
   "id": "4771ebdd",
   "metadata": {},
   "outputs": [],
   "source": [
    "import pickle"
   ]
  },
  {
   "cell_type": "code",
   "execution_count": 13,
   "id": "5145bf64",
   "metadata": {},
   "outputs": [],
   "source": [
    "user_data = {\n",
    "    'name':'Awnish Kumar',\n",
    "    'langauge' : 'Python',\n",
    "    'email' :  'awnish@gmail.com',\n",
    "    'hobbies' : ['reading','riding','playing']\n",
    "}"
   ]
  },
  {
   "cell_type": "code",
   "execution_count": 14,
   "id": "89bf0a90",
   "metadata": {},
   "outputs": [
    {
     "name": "stdout",
     "output_type": "stream",
     "text": [
      "user data: {'name': 'Awnish Kumar', 'langauge': 'Python', 'email': 'awnish@gmail.com', 'hobbies': ['reading', 'riding', 'playing']}\n"
     ]
    }
   ],
   "source": [
    "print('user data:',user_data)"
   ]
  },
  {
   "cell_type": "markdown",
   "id": "def61534",
   "metadata": {},
   "source": [
    "#### serialization of Data"
   ]
  },
  {
   "cell_type": "code",
   "execution_count": 16,
   "id": "fd4ecaf9",
   "metadata": {},
   "outputs": [],
   "source": [
    "with open('profile.pkl','wb') as file:\n",
    "    pickle.dump(user_data,file=file)"
   ]
  },
  {
   "cell_type": "markdown",
   "id": "baae8c12",
   "metadata": {},
   "source": [
    "#### De-serialization of Data"
   ]
  },
  {
   "cell_type": "code",
   "execution_count": 17,
   "id": "47d28fdd",
   "metadata": {},
   "outputs": [],
   "source": [
    "import os "
   ]
  },
  {
   "cell_type": "code",
   "execution_count": 20,
   "id": "f029aed7",
   "metadata": {},
   "outputs": [
    {
     "name": "stdout",
     "output_type": "stream",
     "text": [
      "Pickle File Found.\n"
     ]
    }
   ],
   "source": [
    "if not os.path.exists('./profile.pkl'):\n",
    "    print('Profile pickle file not found')\n",
    "else:\n",
    "    print('Pickle File Found.')\n"
   ]
  },
  {
   "cell_type": "code",
   "execution_count": 21,
   "id": "6c6e2ec3",
   "metadata": {},
   "outputs": [
    {
     "name": "stdout",
     "output_type": "stream",
     "text": [
      "{'name': 'Awnish Kumar', 'langauge': 'Python', 'email': 'awnish@gmail.com', 'hobbies': ['reading', 'riding', 'playing']}\n"
     ]
    }
   ],
   "source": [
    "with open('./profile.pkl','rb') as file:\n",
    "    profile_data = pickle.load(file)\n",
    "    print(profile_data)"
   ]
  }
 ],
 "metadata": {
  "kernelspec": {
   "display_name": "myenv",
   "language": "python",
   "name": "python3"
  },
  "language_info": {
   "codemirror_mode": {
    "name": "ipython",
    "version": 3
   },
   "file_extension": ".py",
   "mimetype": "text/x-python",
   "name": "python",
   "nbconvert_exporter": "python",
   "pygments_lexer": "ipython3",
   "version": "3.12.7"
  }
 },
 "nbformat": 4,
 "nbformat_minor": 5
}
