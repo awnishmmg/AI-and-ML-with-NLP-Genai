{
 "cells": [
  {
   "cell_type": "markdown",
   "id": "44e9249b-54cc-4958-927c-052c61a9519a",
   "metadata": {},
   "source": [
    "### Tokenisation : without using NLP Package(nltk,spacy), string and regex"
   ]
  },
  {
   "cell_type": "code",
   "execution_count": 13,
   "id": "e08e43dc-cd68-4d43-9b46-ff4f77df6ad4",
   "metadata": {},
   "outputs": [],
   "source": [
    "import string as s"
   ]
  },
  {
   "cell_type": "code",
   "execution_count": 15,
   "id": "a8f754c9-c0a2-42b1-b895-8b1a6e8625ef",
   "metadata": {},
   "outputs": [],
   "source": [
    "import re"
   ]
  },
  {
   "cell_type": "code",
   "execution_count": 57,
   "id": "146f88c8-b920-4709-aa76-b14b70a227e2",
   "metadata": {},
   "outputs": [],
   "source": [
    "text = ''' Hello My Name is Awnish Kumar. I love to Teach and Learn New Trending Technology.'''"
   ]
  },
  {
   "cell_type": "code",
   "execution_count": 19,
   "id": "e8c5338f-99c3-44c9-80b6-035047e6bb82",
   "metadata": {},
   "outputs": [
    {
     "name": "stdout",
     "output_type": "stream",
     "text": [
      " Hello My Name is Mr. Awnish Kumar. I love to Teach and Learn New Trending Technology.\n"
     ]
    }
   ],
   "source": [
    "print(text)"
   ]
  },
  {
   "cell_type": "code",
   "execution_count": 23,
   "id": "bae9013e-73eb-45e5-a0a8-62846b42e00a",
   "metadata": {},
   "outputs": [
    {
     "name": "stdout",
     "output_type": "stream",
     "text": [
      "!\"#$%&'()*+,-./:;<=>?@[\\]^_`{|}~\n"
     ]
    }
   ],
   "source": [
    "\n",
    "## Punctuation set\n",
    "print(s.punctuation)"
   ]
  },
  {
   "cell_type": "code",
   "execution_count": 81,
   "id": "1b68f554-4c89-487e-9ff6-de5e49a58247",
   "metadata": {},
   "outputs": [],
   "source": [
    "puncts = []\n",
    "for i in text:\n",
    "    if i in s.punctuation:\n",
    "       puncts.append(i) "
   ]
  },
  {
   "cell_type": "code",
   "execution_count": 79,
   "id": "7e2f65c6-e8e8-454f-8ae6-08dced5a7970",
   "metadata": {},
   "outputs": [
    {
     "name": "stdout",
     "output_type": "stream",
     "text": [
      "['.', '.']\n"
     ]
    }
   ],
   "source": [
    "print(puncts)"
   ]
  },
  {
   "cell_type": "code",
   "execution_count": 67,
   "id": "cefa4ec0-da0b-4746-b0ca-8aa3e6309f20",
   "metadata": {},
   "outputs": [
    {
     "name": "stdout",
     "output_type": "stream",
     "text": [
      "punctuations ['.', '.']\n"
     ]
    }
   ],
   "source": [
    "print('punctuations',puncts)"
   ]
  },
  {
   "cell_type": "code",
   "execution_count": 33,
   "id": "c5beb197-81b4-4088-8e0c-5c47ff6b9391",
   "metadata": {},
   "outputs": [
    {
     "name": "stdout",
     "output_type": "stream",
     "text": [
      "length of puctuations: 86\n"
     ]
    }
   ],
   "source": [
    "print('length of puctuations:',len(puncts))"
   ]
  },
  {
   "cell_type": "code",
   "execution_count": 37,
   "id": "6782b033-da35-4a74-befc-2e5bb8400b25",
   "metadata": {},
   "outputs": [],
   "source": [
    "#Sentences from curpus (text=curpus)"
   ]
  },
  {
   "cell_type": "code",
   "execution_count": 59,
   "id": "dfe2afcd-5b88-4890-8b29-7c23bd3ff95c",
   "metadata": {},
   "outputs": [],
   "source": [
    "sentences = re.split(r'[.,!?]\\s*',text.strip())"
   ]
  },
  {
   "cell_type": "code",
   "execution_count": 55,
   "id": "86459fb1-0f91-4093-9f25-9fb63c8b75bf",
   "metadata": {},
   "outputs": [
    {
     "name": "stdout",
     "output_type": "stream",
     "text": [
      "['Hello My Name is Awnish Kumar', 'I love to Teach and Learn New Trending Technology', '']\n"
     ]
    }
   ],
   "source": [
    "print(sentences)"
   ]
  },
  {
   "cell_type": "code",
   "execution_count": 85,
   "id": "5dde329e-027c-4bb8-a2d5-518f436d0a7e",
   "metadata": {},
   "outputs": [
    {
     "name": "stdout",
     "output_type": "stream",
     "text": [
      "length of sentences: 3\n"
     ]
    }
   ],
   "source": [
    "print('length of sentences:',len(sentences))"
   ]
  },
  {
   "cell_type": "code",
   "execution_count": 87,
   "id": "81ddc7fa-85f5-4315-b039-4973fe7d6d47",
   "metadata": {},
   "outputs": [
    {
     "name": "stdout",
     "output_type": "stream",
     "text": [
      "type of sentences: <class 'list'>\n"
     ]
    }
   ],
   "source": [
    "print('type of sentences:',type(sentences))"
   ]
  },
  {
   "cell_type": "code",
   "execution_count": 89,
   "id": "1e945d43-74e4-4e7c-b9b7-1005940998f6",
   "metadata": {},
   "outputs": [
    {
     "name": "stdout",
     "output_type": "stream",
     "text": [
      "type of sentences: <class 'str'>\n"
     ]
    }
   ],
   "source": [
    "print('type of sentence:',type(sentences[0]))"
   ]
  },
  {
   "cell_type": "code",
   "execution_count": 97,
   "id": "6556038b-73f2-453e-8f9a-176fdb58afbd",
   "metadata": {},
   "outputs": [
    {
     "name": "stdout",
     "output_type": "stream",
     "text": [
      "Setences is Iterable or Not : True\n"
     ]
    }
   ],
   "source": [
    "from collections.abc import Iterable\n",
    "print('Setences is Iterable or Not :',isinstance(sentences,Iterable))"
   ]
  },
  {
   "cell_type": "code",
   "execution_count": 101,
   "id": "4e5248d5-b3b8-4c5f-a2d0-b829ca508e13",
   "metadata": {},
   "outputs": [
    {
     "name": "stdout",
     "output_type": "stream",
     "text": [
      "Sentence is Iterable or Not : True\n"
     ]
    }
   ],
   "source": [
    "from collections.abc import Iterable\n",
    "print('Sentence is Iterable or Not :',isinstance(sentences[0],Iterable))"
   ]
  },
  {
   "cell_type": "code",
   "execution_count": 103,
   "id": "d1483af5-6196-478a-8214-f3019a173f91",
   "metadata": {},
   "outputs": [
    {
     "name": "stdout",
     "output_type": "stream",
     "text": [
      "Hello My Name is Awnish Kumar\n",
      "I love to Teach and Learn New Trending Technology\n",
      "\n"
     ]
    }
   ],
   "source": [
    "for sentence in sentences:\n",
    "    print(sentence)"
   ]
  },
  {
   "cell_type": "code",
   "execution_count": 105,
   "id": "294eccb8-b4f6-4acd-82b9-bbd25a7b54f3",
   "metadata": {},
   "outputs": [
    {
     "name": "stdout",
     "output_type": "stream",
     "text": [
      "Hello My Name is Awnish Kumar\n",
      "I love to Teach and Learn New Trending Technology\n",
      "\n"
     ]
    }
   ],
   "source": [
    "for document in sentences:\n",
    "    print(document)"
   ]
  },
  {
   "cell_type": "code",
   "execution_count": 107,
   "id": "d9a2730a-e49e-4960-a676-b425bbbc5a11",
   "metadata": {},
   "outputs": [],
   "source": [
    "sentence = [s for s in sentences if sentences]"
   ]
  },
  {
   "cell_type": "code",
   "execution_count": 111,
   "id": "620ed6ea-5433-42a0-9b49-1cc1c27b4054",
   "metadata": {},
   "outputs": [
    {
     "name": "stdout",
     "output_type": "stream",
     "text": [
      "each sentence : ['Hello My Name is Awnish Kumar', 'I love to Teach and Learn New Trending Technology', '']\n"
     ]
    }
   ],
   "source": [
    "print('each sentence :',sentence)"
   ]
  },
  {
   "cell_type": "markdown",
   "id": "da5ffcc6-aabf-4e4d-b8d4-4acac8f9be77",
   "metadata": {},
   "source": [
    "#### Convertion of words:-"
   ]
  },
  {
   "cell_type": "code",
   "execution_count": 119,
   "id": "a74b2167-2547-44c0-8c9b-4affb3300b2e",
   "metadata": {},
   "outputs": [],
   "source": [
    "cleaned_text = re.sub(r'[^\\w\\s]',' ',text) # cleaned corpus"
   ]
  },
  {
   "cell_type": "code",
   "execution_count": 121,
   "id": "cd50aa5b-b553-4488-96d4-d097a39081b5",
   "metadata": {},
   "outputs": [
    {
     "name": "stdout",
     "output_type": "stream",
     "text": [
      " Hello My Name is Awnish Kumar  I love to Teach and Learn New Trending Technology \n"
     ]
    }
   ],
   "source": [
    "print(cleaned_text) # cleaned corpus"
   ]
  },
  {
   "cell_type": "code",
   "execution_count": 123,
   "id": "7bc86d4d-32cc-4c2b-9d6d-98576d013938",
   "metadata": {},
   "outputs": [],
   "source": [
    "words = cleaned_text.split() #by default space split"
   ]
  },
  {
   "cell_type": "code",
   "execution_count": 125,
   "id": "9c39b3e4-d5c2-46a7-ad7a-c76426ce5e58",
   "metadata": {},
   "outputs": [
    {
     "name": "stdout",
     "output_type": "stream",
     "text": [
      "['Hello', 'My', 'Name', 'is', 'Awnish', 'Kumar', 'I', 'love', 'to', 'Teach', 'and', 'Learn', 'New', 'Trending', 'Technology']\n"
     ]
    }
   ],
   "source": [
    "print(words)"
   ]
  },
  {
   "cell_type": "code",
   "execution_count": 127,
   "id": "13c2867b-bc2e-4984-98bd-787a94a6d3ac",
   "metadata": {},
   "outputs": [
    {
     "name": "stdout",
     "output_type": "stream",
     "text": [
      "length : 15\n"
     ]
    }
   ],
   "source": [
    "print('length :',len(words))"
   ]
  },
  {
   "cell_type": "code",
   "execution_count": 129,
   "id": "05620a30-1dd7-4bdf-8cba-c60b0fac6dfd",
   "metadata": {},
   "outputs": [
    {
     "name": "stdout",
     "output_type": "stream",
     "text": [
      "length of words: <class 'list'>\n"
     ]
    }
   ],
   "source": [
    "print('type of words:',type(words))"
   ]
  },
  {
   "cell_type": "code",
   "execution_count": 131,
   "id": "1003e2b4-9bb9-4290-9128-229e83ee9bdc",
   "metadata": {},
   "outputs": [
    {
     "name": "stdout",
     "output_type": "stream",
     "text": [
      "length of word: <class 'str'>\n"
     ]
    }
   ],
   "source": [
    "print('type of word:',type(words[0]))"
   ]
  },
  {
   "cell_type": "code",
   "execution_count": 135,
   "id": "5e7adfb9-6231-4ba2-b5f6-a60c56058e57",
   "metadata": {},
   "outputs": [
    {
     "name": "stdout",
     "output_type": "stream",
     "text": [
      "min=0 and max=7:\n"
     ]
    }
   ],
   "source": [
    "## Random Selection Order : floor(len/2)\n",
    "import random as r\n",
    "import math as m\n",
    "mn = 0\n",
    "mx = m.floor(len(words)/2)\n",
    "print(f'min={mn} and max={mx}:')"
   ]
  },
  {
   "cell_type": "code",
   "execution_count": 143,
   "id": "ed0ef705-b912-44f9-b249-bb53c47b43c3",
   "metadata": {},
   "outputs": [
    {
     "name": "stdout",
     "output_type": "stream",
     "text": [
      "type of word: with Index = 4 =>  <class 'str'>\n"
     ]
    }
   ],
   "source": [
    "\n",
    "randomIndex = r.randint(mn,mx)\n",
    "print(f'type of word: with Index = {randomIndex} => ',type(words[randomIndex]))"
   ]
  },
  {
   "cell_type": "code",
   "execution_count": 145,
   "id": "357757ce-4ed7-4862-b68d-52075bf3dcb2",
   "metadata": {},
   "outputs": [
    {
     "name": "stdout",
     "output_type": "stream",
     "text": [
      "type of word: with Index = 4 =>  <class 'str'>\n"
     ]
    }
   ],
   "source": [
    "\n",
    "randomIndex = r.randint(mn,mx)\n",
    "print(f'type of word: with Index = {randomIndex} => ',type(words[randomIndex]))"
   ]
  },
  {
   "cell_type": "code",
   "execution_count": 147,
   "id": "b564a918-6eb8-49c5-ad51-b5999a1c0dd4",
   "metadata": {},
   "outputs": [
    {
     "name": "stdout",
     "output_type": "stream",
     "text": [
      "type of word: with Index = 5 =>  <class 'str'>\n"
     ]
    }
   ],
   "source": [
    "\n",
    "randomIndex = r.randint(mn,mx)\n",
    "print(f'type of word: with Index = {randomIndex} => ',type(words[randomIndex]))"
   ]
  },
  {
   "cell_type": "code",
   "execution_count": 149,
   "id": "a351cefe-d7b4-432d-85fa-65fb215713df",
   "metadata": {},
   "outputs": [
    {
     "name": "stdout",
     "output_type": "stream",
     "text": [
      "type of word: with Index = 3 =>  <class 'str'>\n"
     ]
    }
   ],
   "source": [
    "\n",
    "randomIndex = r.randint(mn,mx)\n",
    "print(f'type of word: with Index = {randomIndex} => ',type(words[randomIndex]))"
   ]
  },
  {
   "cell_type": "code",
   "execution_count": 151,
   "id": "58dbcf06-db7c-4d40-9ccb-6291d5976b5e",
   "metadata": {},
   "outputs": [
    {
     "name": "stdout",
     "output_type": "stream",
     "text": [
      "type of word: with Index = 5 =>  <class 'str'>\n"
     ]
    }
   ],
   "source": [
    "\n",
    "randomIndex = r.randint(mn,mx)\n",
    "print(f'type of word: with Index = {randomIndex} => ',type(words[randomIndex]))"
   ]
  },
  {
   "cell_type": "code",
   "execution_count": 153,
   "id": "434b7ac5-64d2-47ba-87c4-4008909e2482",
   "metadata": {},
   "outputs": [
    {
     "name": "stdout",
     "output_type": "stream",
     "text": [
      "type of word: with Index = 5 =>  <class 'str'>\n"
     ]
    }
   ],
   "source": [
    "\n",
    "randomIndex = r.randint(mn,mx)\n",
    "print(f'type of word: with Index = {randomIndex} => ',type(words[randomIndex]))"
   ]
  },
  {
   "cell_type": "code",
   "execution_count": 155,
   "id": "854dbc8c-4cb7-435e-8d57-c4ebe9421ece",
   "metadata": {},
   "outputs": [
    {
     "name": "stdout",
     "output_type": "stream",
     "text": [
      "type of word: with Index = 5 =>  <class 'str'>\n"
     ]
    }
   ],
   "source": [
    "\n",
    "randomIndex = r.randint(mn,mx)\n",
    "print(f'type of word: with Index = {randomIndex} => ',type(words[randomIndex]))"
   ]
  },
  {
   "cell_type": "code",
   "execution_count": 157,
   "id": "4548ab78-f13c-490f-916d-a95c42a5cd20",
   "metadata": {},
   "outputs": [],
   "source": [
    "# convert each words into same case  Awnish, awnish"
   ]
  },
  {
   "cell_type": "markdown",
   "id": "2b4d7118-dd85-43ca-8286-876229189096",
   "metadata": {},
   "source": [
    "#### All words will converted to lower case for correct Indetification : python is case-sensitive"
   ]
  },
  {
   "cell_type": "code",
   "execution_count": 160,
   "id": "f80a6def-50d5-41c0-8761-6bb6205f5a88",
   "metadata": {},
   "outputs": [],
   "source": [
    "lower_case_words = [word.lower() for word in words if words]"
   ]
  },
  {
   "cell_type": "code",
   "execution_count": 162,
   "id": "c99d89e6-ecab-41ab-b2db-20a8b6153047",
   "metadata": {},
   "outputs": [
    {
     "name": "stdout",
     "output_type": "stream",
     "text": [
      "['hello', 'my', 'name', 'is', 'awnish', 'kumar', 'i', 'love', 'to', 'teach', 'and', 'learn', 'new', 'trending', 'technology']\n"
     ]
    }
   ],
   "source": [
    "print(lower_case_words)"
   ]
  },
  {
   "cell_type": "code",
   "execution_count": 166,
   "id": "649c3c8b-183b-470c-8311-ef0f1a1c2b67",
   "metadata": {},
   "outputs": [
    {
     "name": "stdout",
     "output_type": "stream",
     "text": [
      "mixed case : ['Hello', 'My', 'Name', 'is', 'Awnish', 'Kumar', 'I', 'love', 'to', 'Teach', 'and', 'Learn', 'New', 'Trending', 'Technology']\n"
     ]
    }
   ],
   "source": [
    "print('mixed case :',words)"
   ]
  },
  {
   "cell_type": "code",
   "execution_count": 168,
   "id": "cc677b36-2bb0-4dd0-8e9d-8433d8f2acc7",
   "metadata": {},
   "outputs": [],
   "source": [
    "vocabs_or_unique_words = set(lower_case_words)"
   ]
  },
  {
   "cell_type": "code",
   "execution_count": 170,
   "id": "ffc384af-92a2-4867-bdc2-5ea00e553cee",
   "metadata": {},
   "outputs": [
    {
     "name": "stdout",
     "output_type": "stream",
     "text": [
      "Unique words {'trending', 'hello', 'name', 'is', 'and', 'awnish', 'love', 'teach', 'technology', 'my', 'kumar', 'i', 'new', 'to', 'learn'}\n"
     ]
    }
   ],
   "source": [
    "print('Unique words',vocabs_or_unique_words)"
   ]
  },
  {
   "cell_type": "code",
   "execution_count": 172,
   "id": "8dbc7ec4-b430-48cc-a097-fdf579c091ab",
   "metadata": {},
   "outputs": [
    {
     "name": "stdout",
     "output_type": "stream",
     "text": [
      "lenght of unique words: 15\n"
     ]
    }
   ],
   "source": [
    "print('lenght of unique words:',len(vocabs_or_unique_words))"
   ]
  }
 ],
 "metadata": {
  "kernelspec": {
   "display_name": "Python [conda env:base] *",
   "language": "python",
   "name": "conda-base-py"
  },
  "language_info": {
   "codemirror_mode": {
    "name": "ipython",
    "version": 3
   },
   "file_extension": ".py",
   "mimetype": "text/x-python",
   "name": "python",
   "nbconvert_exporter": "python",
   "pygments_lexer": "ipython3",
   "version": "3.12.7"
  }
 },
 "nbformat": 4,
 "nbformat_minor": 5
}
