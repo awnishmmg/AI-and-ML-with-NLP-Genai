{
 "cells": [
  {
   "cell_type": "markdown",
   "id": "e0299d2a-d7ff-4ef6-bb05-fcce759761f7",
   "metadata": {},
   "source": [
    "### Demo of Creating a New list without list comprehension"
   ]
  },
  {
   "cell_type": "markdown",
   "id": "3e6d0541-5fda-4562-80dd-a7bae33ade81",
   "metadata": {},
   "source": [
    "Consider a Iterable (list,tuple,range,str,....)"
   ]
  },
  {
   "cell_type": "code",
   "execution_count": 8,
   "id": "c0bc3a38-9dbd-4c35-9516-04c6b968cdf5",
   "metadata": {},
   "outputs": [
    {
     "name": "stdout",
     "output_type": "stream",
     "text": [
      "A\n",
      "w\n",
      "n\n",
      "i\n",
      "s\n",
      "h\n",
      " \n",
      "K\n",
      "u\n",
      "m\n",
      "a\n",
      "r\n"
     ]
    }
   ],
   "source": [
    "s = 'Awnish Kumar'\n",
    "for i in s:\n",
    "    print(i)"
   ]
  },
  {
   "cell_type": "code",
   "execution_count": 12,
   "id": "421476d4-362b-4893-be0d-e2729473b9eb",
   "metadata": {},
   "outputs": [
    {
     "name": "stdout",
     "output_type": "stream",
     "text": [
      "Empty List : []\n",
      "New List with Elements : ['A', 'w', 'n', 'i', 's', 'h', ' ', 'K', 'u', 'm', 'a', 'r']\n"
     ]
    }
   ],
   "source": [
    "s = 'Awnish Kumar'\n",
    "l = [] #empty list\n",
    "print('Empty List :',l)\n",
    "for i in s:\n",
    "    l.append(i)\n",
    "print('New List with Elements :',l)"
   ]
  },
  {
   "cell_type": "code",
   "execution_count": 14,
   "id": "1c2f1dfc-5ef2-4142-acb0-a75680c8105e",
   "metadata": {},
   "outputs": [],
   "source": [
    "## Implementing the same example using List compresshension \n",
    "## [expression for item in iterable if condition] # right to left"
   ]
  },
  {
   "cell_type": "code",
   "execution_count": 16,
   "id": "79963fb4-5c65-4463-b142-a3522c3a00ba",
   "metadata": {},
   "outputs": [],
   "source": [
    "s = 'Awnish Kumar'\n",
    "ll = [ i for i in s if s]"
   ]
  },
  {
   "cell_type": "code",
   "execution_count": 18,
   "id": "ff324938-0502-4bbf-b13f-1a292f96e143",
   "metadata": {},
   "outputs": [
    {
     "name": "stdout",
     "output_type": "stream",
     "text": [
      "['A', 'w', 'n', 'i', 's', 'h', ' ', 'K', 'u', 'm', 'a', 'r']\n"
     ]
    }
   ],
   "source": [
    "print(ll)"
   ]
  },
  {
   "cell_type": "code",
   "execution_count": 24,
   "id": "cd2b21e5-a85f-4d6d-8b1d-296ca8b55b80",
   "metadata": {},
   "outputs": [],
   "source": [
    "## Create the list containing the square of 1 to 5 numbers \n",
    "l = []\n",
    "for i in range(1,6):\n",
    "    l.append(i*i)"
   ]
  },
  {
   "cell_type": "code",
   "execution_count": 26,
   "id": "f4193045-e8dd-42fc-8d53-d8bbcfd321d3",
   "metadata": {},
   "outputs": [
    {
     "name": "stdout",
     "output_type": "stream",
     "text": [
      "list of squares: [1, 4, 9, 16, 25]\n"
     ]
    }
   ],
   "source": [
    "print('list of squares:',l)"
   ]
  },
  {
   "cell_type": "code",
   "execution_count": 30,
   "id": "3fdff508-3953-4a04-9f03-537fcef9c769",
   "metadata": {},
   "outputs": [
    {
     "name": "stdout",
     "output_type": "stream",
     "text": [
      "list of squares: [1, 4, 9, 16, 25]\n"
     ]
    }
   ],
   "source": [
    "# list compresison \n",
    "sq_list = [i*i for i in range(1,6) if range(1,6)]\n",
    "print('list of squares:',sq_list)\n"
   ]
  },
  {
   "cell_type": "code",
   "execution_count": 36,
   "id": "79cca4da-7969-4e60-9d1e-e1ad9576b656",
   "metadata": {},
   "outputs": [
    {
     "name": "stdout",
     "output_type": "stream",
     "text": [
      "square key and value of dictionaries {1: 1, 2: 4, 3: 9, 4: 16, 5: 25}\n"
     ]
    }
   ],
   "source": [
    "# dictionary comprehension where k is element and values is square of key\n",
    "sq_dict =  {i:i*i for i in range(1,6) if range(1,6)}\n",
    "print('square key and value of dictionaries',sq_dict)"
   ]
  },
  {
   "cell_type": "code",
   "execution_count": null,
   "id": "bf521ef0-66b2-444b-88d2-1e3a7ad632d2",
   "metadata": {},
   "outputs": [],
   "source": []
  }
 ],
 "metadata": {
  "kernelspec": {
   "display_name": "Python [conda env:base] *",
   "language": "python",
   "name": "conda-base-py"
  },
  "language_info": {
   "codemirror_mode": {
    "name": "ipython",
    "version": 3
   },
   "file_extension": ".py",
   "mimetype": "text/x-python",
   "name": "python",
   "nbconvert_exporter": "python",
   "pygments_lexer": "ipython3",
   "version": "3.12.7"
  }
 },
 "nbformat": 4,
 "nbformat_minor": 5
}
