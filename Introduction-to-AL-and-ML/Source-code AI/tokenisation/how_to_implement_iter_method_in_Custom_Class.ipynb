
class Str:
    def __init__(self): #attributes : magic
        print('This is constructor')
        
        
    def x(self): #attributes : userdefined attr
       print('I am x function')
       
    def __iter__(self):
        print('I am iterable class')

def main():
    t = Test()
    t.x() 
       
    print('kya x Test class mey:',hasattr(Test,'x')) 
    print('kya __iter__ Test class mey:',hasattr(Test,'__iter__')) 
    
       
       
#main code 
import sys
sys.exit(main())
