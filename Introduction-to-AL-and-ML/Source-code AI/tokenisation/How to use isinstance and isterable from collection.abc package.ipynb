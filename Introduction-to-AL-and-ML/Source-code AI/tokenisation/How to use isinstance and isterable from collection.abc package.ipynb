{
 "cells": [
  {
   "cell_type": "code",
   "execution_count": 1,
   "id": "61bd1101-0313-4604-bbf4-31c05df4f07a",
   "metadata": {},
   "outputs": [
    {
     "name": "stdout",
     "output_type": "stream",
     "text": [
      "lenght of s: 6\n"
     ]
    }
   ],
   "source": [
    "## we need to check isinstance and isterable of not\n",
    "s = 'Python' # <class 'str'>\n",
    "print('lenght of s:',len(s))"
   ]
  },
  {
   "cell_type": "code",
   "execution_count": 3,
   "id": "2df08e19-0ece-4780-a47b-219f5fb8c951",
   "metadata": {},
   "outputs": [
    {
     "name": "stdout",
     "output_type": "stream",
     "text": [
      "type of s : <class 'str'>\n"
     ]
    }
   ],
   "source": [
    "print('type of s :',type(s))"
   ]
  },
  {
   "cell_type": "code",
   "execution_count": 13,
   "id": "54d18ff0-91b3-4efd-9fcf-4de841b9c0df",
   "metadata": {},
   "outputs": [
    {
     "name": "stdout",
     "output_type": "stream",
     "text": [
      "is instance of: True\n"
     ]
    }
   ],
   "source": [
    "#isinstance\n",
    "print('is instance of:',isinstance(s,str))"
   ]
  },
  {
   "cell_type": "code",
   "execution_count": 15,
   "id": "abc979db-fdff-4bfd-8e7b-c1c7efe1f9cc",
   "metadata": {},
   "outputs": [
    {
     "name": "stdout",
     "output_type": "stream",
     "text": [
      "P\n",
      "y\n",
      "t\n",
      "h\n",
      "o\n",
      "n\n"
     ]
    }
   ],
   "source": [
    "# is it Iterable or not \n",
    "for i in s:\n",
    "    print(i)"
   ]
  },
  {
   "cell_type": "code",
   "execution_count": 17,
   "id": "4652c810-c831-49d3-bc3d-8c6cf1679905",
   "metadata": {},
   "outputs": [
    {
     "ename": "TypeError",
     "evalue": "'int' object is not iterable",
     "output_type": "error",
     "traceback": [
      "\u001b[1;31m---------------------------------------------------------------------------\u001b[0m",
      "\u001b[1;31mTypeError\u001b[0m                                 Traceback (most recent call last)",
      "Cell \u001b[1;32mIn[17], line 1\u001b[0m\n\u001b[1;32m----> 1\u001b[0m \u001b[38;5;28;01mfor\u001b[39;00m i \u001b[38;5;129;01min\u001b[39;00m \u001b[38;5;241m10\u001b[39m:\n\u001b[0;32m      2\u001b[0m     \u001b[38;5;28mprint\u001b[39m(i)\n",
      "\u001b[1;31mTypeError\u001b[0m: 'int' object is not iterable"
     ]
    }
   ],
   "source": [
    "for i in 10:\n",
    "    print(i)"
   ]
  },
  {
   "cell_type": "code",
   "execution_count": 19,
   "id": "640cd302-1b0f-4ec3-9373-f4fb7bef0717",
   "metadata": {},
   "outputs": [],
   "source": [
    "from collections.abc import Iterable                            #abc : abstract class"
   ]
  },
  {
   "cell_type": "code",
   "execution_count": 21,
   "id": "8dce7a73-bb94-470d-b195-b5a321dee70a",
   "metadata": {},
   "outputs": [
    {
     "name": "stdout",
     "output_type": "stream",
     "text": [
      "Is Iterable True\n"
     ]
    }
   ],
   "source": [
    "print('Is Iterable :',isinstance(s,Iterable))"
   ]
  },
  {
   "cell_type": "code",
   "execution_count": 23,
   "id": "5868b8c6-7be0-464f-9852-39ed9735fe9f",
   "metadata": {},
   "outputs": [
    {
     "name": "stdout",
     "output_type": "stream",
     "text": [
      "Is Iterable : False\n"
     ]
    }
   ],
   "source": [
    "print('Is Iterable :',isinstance(10,Iterable))"
   ]
  },
  {
   "cell_type": "code",
   "execution_count": 25,
   "id": "017a14ea-932a-4d77-b6c9-6a389669fcfa",
   "metadata": {},
   "outputs": [
    {
     "name": "stdout",
     "output_type": "stream",
     "text": [
      "Is Iterable : True\n"
     ]
    }
   ],
   "source": [
    "print('Is Iterable :',isinstance(str(10),Iterable))"
   ]
  },
  {
   "cell_type": "code",
   "execution_count": 29,
   "id": "335b2283-dd67-48c7-8cb5-64d9fbf7e462",
   "metadata": {},
   "outputs": [
    {
     "data": {
      "text/plain": [
       "True"
      ]
     },
     "execution_count": 29,
     "metadata": {},
     "output_type": "execute_result"
    }
   ],
   "source": [
    "hasattr(s, '__iter__')"
   ]
  },
  {
   "cell_type": "code",
   "execution_count": null,
   "id": "c60b9a65-f0f4-4c55-8366-206a625185cf",
   "metadata": {},
   "outputs": [],
   "source": []
  }
 ],
 "metadata": {
  "kernelspec": {
   "display_name": "Python [conda env:base] *",
   "language": "python",
   "name": "conda-base-py"
  },
  "language_info": {
   "codemirror_mode": {
    "name": "ipython",
    "version": 3
   },
   "file_extension": ".py",
   "mimetype": "text/x-python",
   "name": "python",
   "nbconvert_exporter": "python",
   "pygments_lexer": "ipython3",
   "version": "3.12.7"
  }
 },
 "nbformat": 4,
 "nbformat_minor": 5
}
